{
 "cells": [
  {
   "cell_type": "markdown",
   "id": "ec6ff76c",
   "metadata": {},
   "source": [
    "### 1.What are the two values of the Boolean data type? How do you write them?\n",
    "- there are two values of boolean ``True`` and ``False``"
   ]
  },
  {
   "cell_type": "code",
   "execution_count": 2,
   "id": "6599ef46",
   "metadata": {},
   "outputs": [
    {
     "name": "stdout",
     "output_type": "stream",
     "text": [
      "<class 'bool'>\n",
      "<class 'bool'>\n"
     ]
    }
   ],
   "source": [
    "a = True\n",
    "b = False\n",
    "print(type(a))\n",
    "print(type(b))"
   ]
  },
  {
   "cell_type": "markdown",
   "id": "251de642",
   "metadata": {},
   "source": [
    "### 2. What are the three different types of Boolean operators?\n",
    "- boolean operator act upon 'Bool' type literals and they provide bool type output. it means the resualts provide by Boolean operator will be again True or False.<br>\n",
    "- and Operators are ``and``, ``or``, ``not``"
   ]
  },
  {
   "cell_type": "code",
   "execution_count": 4,
   "id": "fdc8ea02",
   "metadata": {},
   "outputs": [
    {
     "name": "stdout",
     "output_type": "stream",
     "text": [
      "and operator a and b =  False\n",
      "or operator a or b =  True\n",
      "not operator not b = True\n",
      "not operator not a =  False\n"
     ]
    }
   ],
   "source": [
    "a = True\n",
    "b = False\n",
    "print('and operator a and b = ', a and b)\n",
    "print('or operator a or b = ', a or b)\n",
    "print('not operator not b =', not b)\n",
    "print('not operator not a = ', not a)"
   ]
  },
  {
   "cell_type": "markdown",
   "id": "25d9ee84",
   "metadata": {},
   "source": [
    "### 3. Make a list of each Boolean operator&#39;s truth tables (i.e. every possible combination of Boolean values for the operator and what it evaluate ).\n",
    "- <b>Truth table of ``and`` operator</b><br>\n",
    "   - True and False is False\n",
    "   - True and True is True\n",
    "   - False and False is False\n",
    "   - False and True is False\n",
    "   <br>\n",
    "- <b>Truth table of ``or`` operator</b><br>\n",
    "   - True or False is True\n",
    "   - True or True is True\n",
    "   - False or False is False\n",
    "   - False or True is True\n",
    "- <b>Truth table of ``not`` operator</b><br>\n",
    "   - not True is False\n",
    "   - not False is True\n",
    "   "
   ]
  },
  {
   "cell_type": "markdown",
   "id": "b7a2b30e",
   "metadata": {},
   "source": [
    "### 4. What are the values of the following expressions?"
   ]
  },
  {
   "cell_type": "code",
   "execution_count": 11,
   "id": "3a97e8d5",
   "metadata": {},
   "outputs": [
    {
     "name": "stdout",
     "output_type": "stream",
     "text": [
      "False\n",
      "False\n",
      "True\n",
      "False\n",
      "False\n",
      "True\n"
     ]
    }
   ],
   "source": [
    "print((5 > 4) and (3 == 5)) # False\n",
    "print(not (5 > 4)) # False\n",
    "print((5 > 4) or (3 == 5)) # True\n",
    "print(not ((5 > 4) or (3 == 5))) # False\n",
    "print((True and True) and (True == False)) # False\n",
    "print((not False) or (not True)) # True"
   ]
  },
  {
   "cell_type": "markdown",
   "id": "b49d1509",
   "metadata": {},
   "source": [
    "### 5. What are the six comparison operators?\n",
    "- comparison operator are also called Relational operator. and operators are\n",
    "- ``>``, ``>=``, ``<``, ``<=``, ``==``, ``!=``"
   ]
  },
  {
   "cell_type": "markdown",
   "id": "8ba3578a",
   "metadata": {},
   "source": [
    "### 6. How do you tell the difference between the equal to and assignment operators?Describe a condition and when you would use one.\n",
    "- ``==`` operator is used to compares two value like ``a == b``<br>\n",
    "- and assignment operator ``=`` is udes to Stores right side value into left side "
   ]
  },
  {
   "cell_type": "code",
   "execution_count": 12,
   "id": "95e92ee0",
   "metadata": {},
   "outputs": [
    {
     "name": "stdout",
     "output_type": "stream",
     "text": [
      "True\n",
      "10\n"
     ]
    }
   ],
   "source": [
    "# == operator\n",
    "a = 5\n",
    "b = 5\n",
    "print(a == b)\n",
    "\n",
    "# = assignment operator\n",
    "c = a + b  # store a+b value into c\n",
    "print(c)"
   ]
  },
  {
   "cell_type": "markdown",
   "id": "f8d47495",
   "metadata": {},
   "source": [
    "### 7. Identify the three blocks in this code:\n",
    "- a block is piece of python code that execute as unit. example - a function body, class defination"
   ]
  },
  {
   "cell_type": "code",
   "execution_count": 15,
   "id": "a5cb3605",
   "metadata": {},
   "outputs": [
    {
     "name": "stdout",
     "output_type": "stream",
     "text": [
      "ham\n",
      "spam\n",
      "spam\n"
     ]
    }
   ],
   "source": [
    "spam = 0\n",
    "\n",
    "#block - 1\n",
    "if spam == 10:\n",
    "    print('eggs')\n",
    "    \n",
    "# block - 2\n",
    "if spam > 5:\n",
    "    print('bacon')\n",
    "    \n",
    "# block - 3\n",
    "else:\n",
    "    print('ham')\n",
    "    print('spam')\n",
    "    print('spam')"
   ]
  },
  {
   "cell_type": "markdown",
   "id": "f2e5973f",
   "metadata": {},
   "source": [
    "### 8. Write code that prints Hello if 1 is stored in spam, prints Howdy if 2 is stored in spam, and prints Greetings! if anything else is stored in spam."
   ]
  },
  {
   "cell_type": "code",
   "execution_count": 19,
   "id": "1762d512",
   "metadata": {},
   "outputs": [
    {
     "name": "stdout",
     "output_type": "stream",
     "text": [
      "Enter your value2\n",
      "spam\n"
     ]
    }
   ],
   "source": [
    "a = input(\"Enter your value\")\n",
    "def func(a):\n",
    "    if a == \"1\":\n",
    "        print('Hello')\n",
    "    elif a == \"2\":\n",
    "        print(\"spam\")\n",
    "    else:\n",
    "        print(\"Greetings\")\n",
    "\n",
    "func(a)"
   ]
  },
  {
   "cell_type": "markdown",
   "id": "93413eac",
   "metadata": {},
   "source": [
    "### 9.If your programme is stuck in an endless loop, what keys you’ll press?\n",
    "- generally in ide if program stuck we use ``Ctrl + c``"
   ]
  },
  {
   "cell_type": "markdown",
   "id": "31786dfc",
   "metadata": {},
   "source": [
    "### 10. How can you tell the difference between break and continue?\n",
    "- the break statement can be used inside for loop or while loop to come out of the loop.\n",
    "- when 'break' is executed the python interpreter jumps out of the loop\n",
    "- the continue statement used in loop to go back to the beginning of the loop\n",
    "- when continue is executed the next repetition is start. the subsequent statement in the loop not executed"
   ]
  },
  {
   "cell_type": "code",
   "execution_count": 27,
   "id": "be773fc6",
   "metadata": {},
   "outputs": [
    {
     "name": "stdout",
     "output_type": "stream",
     "text": [
      "----------- break statement---------------\n",
      "1\n",
      "2\n",
      "3\n",
      "4\n",
      "5\n",
      "------------continue statement-------------\n",
      "1\n",
      "2\n",
      "3\n",
      "4\n",
      "6\n",
      "7\n",
      "8\n",
      "9\n"
     ]
    }
   ],
   "source": [
    "# break\n",
    "print(\"----------- break statement---------------\")\n",
    "for i in range(1, 10):\n",
    "    print(i)\n",
    "    if i == 5:\n",
    "        break\n",
    "\n",
    "print(\"------------continue statement-------------\")\n",
    "for n in range(1, 10):\n",
    "    if n == 5:\n",
    "        continue\n",
    "    print(n)"
   ]
  },
  {
   "cell_type": "markdown",
   "id": "72bad82e",
   "metadata": {},
   "source": [
    "### 11. In a for loop, what is the difference between range(10), range(0, 10), and range(0, 10, 1)?\n",
    "- <b>range(start, end, step)</b>\n",
    "- <b>range(10)</b> - call range 0 to 9 not include 10\n",
    "- <b>range(0, 10)</b> - start with 0 to 9\n",
    "- <b>range(0, 10, 1)</b> - start with 0 to 9 increase 1 step for each iteration\n"
   ]
  },
  {
   "cell_type": "code",
   "execution_count": 36,
   "id": "23ee8674",
   "metadata": {},
   "outputs": [
    {
     "name": "stdout",
     "output_type": "stream",
     "text": [
      "-----------range(10)------------\n",
      "0,1,2,3,4,5,6,7,8,9,\n",
      "\n",
      "-----------range(0, 10)------------\n",
      "0,1,2,3,4,5,6,7,8,9,\n",
      "\n",
      "-----------range(0, 10, 1)------------\n",
      "0,1,2,3,4,5,6,7,8,9,"
     ]
    }
   ],
   "source": [
    "print(\"-----------range(10)------------\")\n",
    "for i in range(10):\n",
    "    print(i, end=\",\")\n",
    "\n",
    "print(\"\\n\\n-----------range(0, 10)------------\")\n",
    "for g in range(0, 10):\n",
    "    print(g, end=\",\")\n",
    "    \n",
    "print(\"\\n\\n-----------range(0, 10, 1)------------\")\n",
    "for m in range(0, 10, 1):\n",
    "    print(m, end=\",\")"
   ]
  },
  {
   "cell_type": "markdown",
   "id": "95f808a0",
   "metadata": {},
   "source": [
    "### 12. Write a short program that prints the numbers 1 to 10 using a for loop. Then write an equivalent program that prints the numbers 1 to 10 using a while loop."
   ]
  },
  {
   "cell_type": "code",
   "execution_count": 39,
   "id": "f9b81c66",
   "metadata": {},
   "outputs": [
    {
     "name": "stdout",
     "output_type": "stream",
     "text": [
      "-------------for loop-------------\n",
      "1\n",
      "2\n",
      "3\n",
      "4\n",
      "5\n",
      "6\n",
      "7\n",
      "8\n",
      "9\n",
      "10\n",
      "\n",
      "\n",
      "---------- while loop ----------\n",
      "1\n",
      "2\n",
      "3\n",
      "4\n",
      "5\n",
      "6\n",
      "7\n",
      "8\n",
      "9\n",
      "10\n"
     ]
    }
   ],
   "source": [
    "print(\"-------------for loop-------------\")\n",
    "for i in range(1, 11):\n",
    "    print(i)\n",
    "print(\"\\n\")\n",
    "print(\"-\"*10, \"while loop\", '-'*10)\n",
    "a = 1\n",
    "while a <= 10:\n",
    "    print(a)\n",
    "    a+=1"
   ]
  },
  {
   "cell_type": "markdown",
   "id": "cfef8f23",
   "metadata": {},
   "source": [
    "### 13. If you had a function named bacon() inside a module named spam, how would you call it after importing spam?\n",
    "- we can called spam.bacon()"
   ]
  },
  {
   "cell_type": "code",
   "execution_count": null,
   "id": "f96c625f",
   "metadata": {},
   "outputs": [],
   "source": []
  }
 ],
 "metadata": {
  "kernelspec": {
   "display_name": "Python 3 (ipykernel)",
   "language": "python",
   "name": "python3"
  },
  "language_info": {
   "codemirror_mode": {
    "name": "ipython",
    "version": 3
   },
   "file_extension": ".py",
   "mimetype": "text/x-python",
   "name": "python",
   "nbconvert_exporter": "python",
   "pygments_lexer": "ipython3",
   "version": "3.8.12"
  }
 },
 "nbformat": 4,
 "nbformat_minor": 5
}
