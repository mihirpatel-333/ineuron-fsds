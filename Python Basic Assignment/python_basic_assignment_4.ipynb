{
 "cells": [
  {
   "cell_type": "markdown",
   "id": "815e1c1e",
   "metadata": {},
   "source": [
    "### 1. What exactly is []?\n",
    " - [] this is list and it's empty."
   ]
  },
  {
   "cell_type": "markdown",
   "id": "5749a860",
   "metadata": {},
   "source": [
    "### 2. In a list of values stored in a variable called spam, how would you assign the value 'hello' as the third value? (Assume [2, 4, 6, 8, 10] are in spam.)"
   ]
  },
  {
   "cell_type": "code",
   "execution_count": 4,
   "id": "2008dcfd",
   "metadata": {},
   "outputs": [
    {
     "data": {
      "text/plain": [
       "[2, 4, 'hello', 8, 10]"
      ]
     },
     "execution_count": 4,
     "metadata": {},
     "output_type": "execute_result"
    }
   ],
   "source": [
    "# we can chnage the value by indexing\n",
    "spam = [2, 4, 6, 8, 10]\n",
    "spam[2] = \"hello\"\n",
    "spam\n",
    "evaluate to?"
   ]
  },
  {
   "cell_type": "code",
   "execution_count": null,
   "id": "1bfc52fb",
   "metadata": {},
   "outputs": [],
   "source": []
  },
  {
   "cell_type": "markdown",
   "id": "76a65f3c",
   "metadata": {},
   "source": [
    "### Let's pretend the spam includes the list ['a', 'b', 'c', 'd'] for the next three queries."
   ]
  },
  {
   "cell_type": "code",
   "execution_count": 11,
   "id": "c43291b7",
   "metadata": {},
   "outputs": [],
   "source": [
    "spam = ['a', 'b', 'c', 'd']"
   ]
  },
  {
   "cell_type": "markdown",
   "id": "e8b82ba1",
   "metadata": {},
   "source": [
    "### 3. What is the value of spam[int(int('3' * 2) // 11)] ?\n",
    "- 'd' (Note that '3' * 2 is the string '33', which is passed to int() before being divided by 11. This eventually evaluates to 3, spam[3] is equal to d.)"
   ]
  },
  {
   "cell_type": "code",
   "execution_count": 13,
   "id": "5c5408f6",
   "metadata": {},
   "outputs": [
    {
     "name": "stdout",
     "output_type": "stream",
     "text": [
      "spam[int(int('3'*2)//11)] -> d\n"
     ]
    }
   ],
   "source": [
    "spam=['a','b','c','d']\n",
    "print(\"spam[int(int('3'*2)//11)] ->\",spam[int(int('3'*2)//11)])"
   ]
  },
  {
   "cell_type": "markdown",
   "id": "cd44e19f",
   "metadata": {},
   "source": [
    "### 4. What is the value of spam[-1]?\n",
    "- the value is ``'d'``"
   ]
  },
  {
   "cell_type": "code",
   "execution_count": 14,
   "id": "3a52a55d",
   "metadata": {},
   "outputs": [
    {
     "data": {
      "text/plain": [
       "'d'"
      ]
     },
     "execution_count": 14,
     "metadata": {},
     "output_type": "execute_result"
    }
   ],
   "source": [
    "spam[-1]"
   ]
  },
  {
   "cell_type": "markdown",
   "id": "1e6a6307",
   "metadata": {},
   "source": [
    "### 5. What is the value of spam[:2]?\n",
    "- the answer is ``'a', 'b'``"
   ]
  },
  {
   "cell_type": "code",
   "execution_count": 15,
   "id": "eadb9fe5",
   "metadata": {},
   "outputs": [
    {
     "data": {
      "text/plain": [
       "['a', 'b']"
      ]
     },
     "execution_count": 15,
     "metadata": {},
     "output_type": "execute_result"
    }
   ],
   "source": [
    "spam[:2]"
   ]
  },
  {
   "cell_type": "code",
   "execution_count": null,
   "id": "95c2c26c",
   "metadata": {},
   "outputs": [],
   "source": []
  },
  {
   "cell_type": "markdown",
   "id": "d293579b",
   "metadata": {},
   "source": [
    "### Let&#39;s pretend bacon has the list [3.14,'cat',11,'cat',True]  for the next three questions."
   ]
  },
  {
   "cell_type": "code",
   "execution_count": 17,
   "id": "d98d9d7f",
   "metadata": {},
   "outputs": [],
   "source": [
    "bacon = [3.14,'cat',11,'cat',True]"
   ]
  },
  {
   "cell_type": "markdown",
   "id": "cac72721",
   "metadata": {},
   "source": [
    "### 6. What is the value of bacon.index('cat')?\n",
    "- the answer is = ``1``"
   ]
  },
  {
   "cell_type": "code",
   "execution_count": 18,
   "id": "61ce3928",
   "metadata": {},
   "outputs": [
    {
     "data": {
      "text/plain": [
       "1"
      ]
     },
     "execution_count": 18,
     "metadata": {},
     "output_type": "execute_result"
    }
   ],
   "source": [
    "bacon.index('cat')"
   ]
  },
  {
   "cell_type": "markdown",
   "id": "6e86b45b",
   "metadata": {},
   "source": [
    "### 7. How does bacon.append(99) change the look of the list value in bacon?\n",
    "- appends add item in the end of the list"
   ]
  },
  {
   "cell_type": "code",
   "execution_count": 19,
   "id": "491d89b1",
   "metadata": {},
   "outputs": [
    {
     "name": "stdout",
     "output_type": "stream",
     "text": [
      "[3.14, 'cat', 11, 'cat', True]\n",
      "[3.14, 'cat', 11, 'cat', True, 99]\n"
     ]
    }
   ],
   "source": [
    "print(bacon)\n",
    "bacon.append(99)\n",
    "print(bacon)"
   ]
  },
  {
   "cell_type": "markdown",
   "id": "31241f33",
   "metadata": {},
   "source": [
    "### 8. How does bacon.remove('cat') change the look of the list in bacon?\n",
    "- remove method removes the first occurence of the element"
   ]
  },
  {
   "cell_type": "code",
   "execution_count": 20,
   "id": "efe7b879",
   "metadata": {},
   "outputs": [
    {
     "name": "stdout",
     "output_type": "stream",
     "text": [
      "[3.14, 'cat', 11, 'cat', True, 99]\n",
      "[3.14, 11, 'cat', True, 99]\n"
     ]
    }
   ],
   "source": [
    "print(bacon)\n",
    "bacon.remove('cat')\n",
    "print(bacon)"
   ]
  },
  {
   "cell_type": "markdown",
   "id": "55259076",
   "metadata": {},
   "source": [
    "### 9. What are the list concatenation and list replication operators?\n",
    "- ``+`` is the list concatentation operator\n",
    "- ``*`` is the list replication operator"
   ]
  },
  {
   "cell_type": "code",
   "execution_count": 21,
   "id": "7c07a9c2",
   "metadata": {},
   "outputs": [
    {
     "name": "stdout",
     "output_type": "stream",
     "text": [
      "list concatention = ['mihir', 'dholakia']\n",
      "list replication = ['mihir', 'mihir']\n"
     ]
    }
   ],
   "source": [
    "l1 = [\"mihir\"]\n",
    "l2 = [\"dholakia\"]\n",
    "print(f'list concatention = {l1+l2}') # list concatentation \n",
    "print(f'list replication = {l1*2}') # list replication"
   ]
  },
  {
   "cell_type": "markdown",
   "id": "e8dbec5c",
   "metadata": {},
   "source": [
    "### 10. What is difference between the list methods append() and insert()?\n",
    "- ``append()`` method add value only in end of list\n",
    "- ``inster()`` method add value anywhere in the list"
   ]
  },
  {
   "cell_type": "code",
   "execution_count": 27,
   "id": "0d1ed92c",
   "metadata": {},
   "outputs": [
    {
     "name": "stdout",
     "output_type": "stream",
     "text": [
      "simple list [1, 2, 3, 'mihir']\n",
      "appending value = [1, 2, 3, 'mihir', 'dholakia']\n",
      "inserting value = [1, 2, 'hello', 3, 'mihir', 'dholakia']\n"
     ]
    }
   ],
   "source": [
    "a = [1, 2, 3, \"mihir\"]\n",
    "print(\"simple list\", a)\n",
    "a.append(\"dholakia\")\n",
    "print(f\"appending value = {a}\")\n",
    "a.insert(2, 'hello')\n",
    "print(f\"inserting value = {a}\")"
   ]
  },
  {
   "cell_type": "markdown",
   "id": "082fb41d",
   "metadata": {},
   "source": [
    "### 11. What are the two methods for removing items from a list?\n",
    "- The del statement and the remove() list method are two ways to remove values from a list."
   ]
  },
  {
   "cell_type": "markdown",
   "id": "2ff636c6",
   "metadata": {},
   "source": [
    "### 12. Describe how list values and string values are identical.\n",
    "- both list and string pass to len()\n",
    "- have indexes and slices\n",
    "- can be concatenated and replicated\n",
    "- can be used in and not in operator"
   ]
  },
  {
   "cell_type": "markdown",
   "id": "cc58760a",
   "metadata": {},
   "source": [
    "### 13. What&#39;s the difference between tuples and lists?\n",
    "- Lists are mutable; they can have values added, removed, or changed. Tuples are immutable; they cannot be changed at all. Also, tuples are written using parentheses, (  ), while lists use the square brackets, [  ]."
   ]
  },
  {
   "cell_type": "markdown",
   "id": "963ae66e",
   "metadata": {},
   "source": [
    "### 14. How do you type a tuple value that only contains the integer 42?\n",
    "- we can write (42,) , is mandatory"
   ]
  },
  {
   "cell_type": "code",
   "execution_count": 34,
   "id": "13d21473",
   "metadata": {},
   "outputs": [
    {
     "data": {
      "text/plain": [
       "tuple"
      ]
     },
     "execution_count": 34,
     "metadata": {},
     "output_type": "execute_result"
    }
   ],
   "source": [
    "a = (42,)\n",
    "type(a)"
   ]
  },
  {
   "cell_type": "markdown",
   "id": "1ebd6c38",
   "metadata": {},
   "source": [
    "### 15. How do you get a list value's tuple form? How do you get a tuple value's list form?\n",
    "- we can use ``tuple()`` and ``list()`` function"
   ]
  },
  {
   "cell_type": "code",
   "execution_count": 38,
   "id": "2ecbf92f",
   "metadata": {},
   "outputs": [
    {
     "name": "stdout",
     "output_type": "stream",
     "text": [
      "<class 'tuple'>\n",
      "<class 'list'>\n"
     ]
    }
   ],
   "source": [
    "#list to tuple\n",
    "a = [1, 2]\n",
    "b = tuple(a)\n",
    "print(type(b))\n",
    "\n",
    "# tuple to list\n",
    "c = (33, 33,)\n",
    "d = list(c)\n",
    "print(type(d))"
   ]
  },
  {
   "cell_type": "markdown",
   "id": "4398860c",
   "metadata": {},
   "source": [
    "### 16. Variables that \"contain\" list values are not necessarily lists themselves. Instead, what do they contain?\n",
    "- They contain references to list values."
   ]
  },
  {
   "cell_type": "markdown",
   "id": "626f1f17",
   "metadata": {},
   "source": [
    "### 17. How do you distinguish between copy.copy() and copy.deepcopy()?\n",
    "- The copy.copy() function will do a shallow copy of a list\n",
    "- copy.deepcopy() function will do a deep copy of a list. That is, only copy.deepcopy() will duplicate any lists inside the list."
   ]
  },
  {
   "cell_type": "code",
   "execution_count": null,
   "id": "3260f46b",
   "metadata": {},
   "outputs": [],
   "source": []
  }
 ],
 "metadata": {
  "kernelspec": {
   "display_name": "Python 3 (ipykernel)",
   "language": "python",
   "name": "python3"
  },
  "language_info": {
   "codemirror_mode": {
    "name": "ipython",
    "version": 3
   },
   "file_extension": ".py",
   "mimetype": "text/x-python",
   "name": "python",
   "nbconvert_exporter": "python",
   "pygments_lexer": "ipython3",
   "version": "3.8.12"
  }
 },
 "nbformat": 4,
 "nbformat_minor": 5
}
