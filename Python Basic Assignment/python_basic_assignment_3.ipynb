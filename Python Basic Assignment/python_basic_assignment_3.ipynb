{
 "cells": [
  {
   "cell_type": "markdown",
   "id": "a7684abf",
   "metadata": {},
   "source": [
    "### 1. Why are functions advantageous to have in your programs?\n",
    "- Functions reduce the need for duplicate code. this make program shorter.\n",
    "- and function also use multiple time when function call."
   ]
  },
  {
   "cell_type": "markdown",
   "id": "63d09aa3",
   "metadata": {},
   "source": [
    "### 2. When does the code in a function run: when it's specified or when it's called?\n",
    "- FUnction code run when you call function, not when you define function"
   ]
  },
  {
   "cell_type": "markdown",
   "id": "7c95837e",
   "metadata": {},
   "source": [
    "### 3. What statement creates a function?\n",
    "- ``def`` keyword in python to create function<br>\n",
    "def function_name(arg):<br>\n",
    "&nbsp;&nbsp;&nbsp;&nbsp;&nbsp;&nbsp;'function_body'<br>\n"
   ]
  },
  {
   "cell_type": "code",
   "execution_count": 1,
   "id": "c6e2dfad",
   "metadata": {},
   "outputs": [
    {
     "name": "stdout",
     "output_type": "stream",
     "text": [
      "hello\n"
     ]
    }
   ],
   "source": [
    "def fun_name():\n",
    "    print('hello')\n",
    "    \n",
    "fun_name()"
   ]
  },
  {
   "cell_type": "markdown",
   "id": "cd20332b",
   "metadata": {},
   "source": [
    "### 4. What is the difference between a function and a function call?\n",
    "- A function - when you want to achive some task so you write code in function with help of ``def`` keyword so it's called function<br>\n",
    "- A function call - when you want to achive function task so you need to run code so it's called function call."
   ]
  },
  {
   "cell_type": "markdown",
   "id": "a097cb07",
   "metadata": {},
   "source": [
    "### 5. How many global scopes are there in a Python program? How many local scopes?\n",
    "- there is one global scope and local scope created when function is called"
   ]
  },
  {
   "cell_type": "markdown",
   "id": "7bf3d329",
   "metadata": {},
   "source": [
    "### 6. What happens to variables in a local scope when the function call returns?\n",
    "- when function returns, the local scope is destroyed and all variables are forgotten"
   ]
  },
  {
   "cell_type": "markdown",
   "id": "a1f7066e",
   "metadata": {},
   "source": [
    "### 7. What is the concept of a return value? Is it possible to have a return value in an expression?\n",
    "- a return value is the value that a function call evaluate to, like any value the return value can be used as expression"
   ]
  },
  {
   "cell_type": "markdown",
   "id": "7484b20a",
   "metadata": {},
   "source": [
    "### 8. If a function does not have a return statement, what is the return value of a call to that function?\n",
    " - if there is no return value in function so it's ``none``"
   ]
  },
  {
   "cell_type": "markdown",
   "id": "83ee150c",
   "metadata": {},
   "source": [
    "### 9. How do you make a function variable refer to the global variable?\n",
    "- to function variable make global we can use ``global`` keyword"
   ]
  },
  {
   "cell_type": "code",
   "execution_count": 6,
   "id": "ad29ed7d",
   "metadata": {},
   "outputs": [
    {
     "name": "stdout",
     "output_type": "stream",
     "text": [
      "42\n"
     ]
    }
   ],
   "source": [
    "def func1():\n",
    "    global myGlobal\n",
    "    myGlobal = 42\n",
    "\n",
    "\n",
    "\n",
    "func1()\n",
    "print(myGlobal)"
   ]
  },
  {
   "cell_type": "markdown",
   "id": "44bd3bee",
   "metadata": {},
   "source": [
    "### 10. What is the data type of None?\n",
    "- data type of none is NoneType"
   ]
  },
  {
   "cell_type": "markdown",
   "id": "605681e1",
   "metadata": {},
   "source": [
    "### 11. What does the sentence import areallyourpetsnamederic do?\n",
    "- the import statement imports areallyourpetsnamederic"
   ]
  },
  {
   "cell_type": "markdown",
   "id": "d3f22d5e",
   "metadata": {},
   "source": [
    "### 12. If you had a bacon() feature in a spam module, what would you call it after importing spam?\n",
    "- the function called with spam.bacon()"
   ]
  },
  {
   "cell_type": "markdown",
   "id": "18dce21a",
   "metadata": {},
   "source": [
    "### 13. What can you do to save a programme from crashing if it encounters an error?\n",
    "- we can use exception handling. In try we can write code and except block we can find error."
   ]
  },
  {
   "cell_type": "markdown",
   "id": "0d510cd8",
   "metadata": {},
   "source": [
    "### 14. What is the purpose of the try clause? What is the purpose of the except clause?\n",
    "- the code that could potentially cause error goes in try.\n",
    "- the code that excute if an error happensgoes in except block"
   ]
  },
  {
   "cell_type": "code",
   "execution_count": null,
   "id": "323e26b7",
   "metadata": {},
   "outputs": [],
   "source": []
  }
 ],
 "metadata": {
  "kernelspec": {
   "display_name": "Python 3 (ipykernel)",
   "language": "python",
   "name": "python3"
  },
  "language_info": {
   "codemirror_mode": {
    "name": "ipython",
    "version": 3
   },
   "file_extension": ".py",
   "mimetype": "text/x-python",
   "name": "python",
   "nbconvert_exporter": "python",
   "pygments_lexer": "ipython3",
   "version": "3.8.12"
  }
 },
 "nbformat": 4,
 "nbformat_minor": 5
}
