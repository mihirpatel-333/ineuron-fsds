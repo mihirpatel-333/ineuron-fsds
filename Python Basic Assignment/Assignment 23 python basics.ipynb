{
 "cells": [
  {
   "cell_type": "markdown",
   "id": "2d405092",
   "metadata": {},
   "source": [
    "# 1. What is the result of the code, and why?\n",
    "&gt;&gt;&gt; def func(a, b=6, c=8): <br>\n",
    "print(a, b, c) <br>\n",
    "&gt;&gt;&gt; func(1, 2) <br>"
   ]
  },
  {
   "cell_type": "code",
   "execution_count": 1,
   "id": "35c74664",
   "metadata": {},
   "outputs": [
    {
     "name": "stdout",
     "output_type": "stream",
     "text": [
      "1 2 8\n"
     ]
    }
   ],
   "source": [
    "def func(a,b=6,c=8):\n",
    "    print(a,b,c)\n",
    "func(1,2)"
   ]
  },
  {
   "cell_type": "markdown",
   "id": "b858e484",
   "metadata": {},
   "source": [
    "# 2. What is the result of this code, and why?\n",
    "&gt;&gt;&gt; def func(a, b, c=5): <br>\n",
    "print(a, b, c) <br>\n",
    "&gt;&gt;&gt; func(1, c=3, b=2)"
   ]
  },
  {
   "cell_type": "code",
   "execution_count": 2,
   "id": "5fe2bf8f",
   "metadata": {},
   "outputs": [
    {
     "name": "stdout",
     "output_type": "stream",
     "text": [
      "1 2 3\n"
     ]
    }
   ],
   "source": [
    "def func(a,b,c=5):\n",
    "    print(a,b,c)\n",
    "func(1,c=3,b=2)"
   ]
  },
  {
   "cell_type": "markdown",
   "id": "c218b847",
   "metadata": {},
   "source": [
    "# 3. How about this code: what is its result, and why?\n",
    "&gt;&gt;&gt; def func(a, *pargs): <br>\n",
    "print(a, pargs) <br>\n",
    "&gt;&gt;&gt; func(1, 2, 3)"
   ]
  },
  {
   "cell_type": "code",
   "execution_count": 3,
   "id": "4baa7134",
   "metadata": {},
   "outputs": [
    {
     "name": "stdout",
     "output_type": "stream",
     "text": [
      "1 (2, 3)\n"
     ]
    }
   ],
   "source": [
    "def func(a, *pargs):\n",
    "    print(a,pargs)\n",
    "func(1,2,3)"
   ]
  },
  {
   "cell_type": "markdown",
   "id": "ca9edfd8",
   "metadata": {},
   "source": [
    "# 4. What does this code print, and why?\n",
    "&gt;&gt;&gt; def func(a, **kargs): <br>\n",
    "print(a, kargs) <br>\n",
    "&gt;&gt;&gt; func(a=1, c=3, b=2) "
   ]
  },
  {
   "cell_type": "code",
   "execution_count": 4,
   "id": "0be5bc58",
   "metadata": {},
   "outputs": [
    {
     "name": "stdout",
     "output_type": "stream",
     "text": [
      "1 {'c': 3, 'b': 2}\n"
     ]
    }
   ],
   "source": [
    "def func(a,**kargs):\n",
    "    print(a,kargs)\n",
    "func(a=1,c=3,b=2)"
   ]
  },
  {
   "cell_type": "markdown",
   "id": "b29cfb82",
   "metadata": {},
   "source": [
    "# 5. What gets printed by this, and explain?\n",
    "&gt;&gt;&gt; def func(a, b, c=8, d=5): print(a, b, c, d) <br>.\n",
    "&gt;&gt;&gt; func(1, *(5, 6))"
   ]
  },
  {
   "cell_type": "code",
   "execution_count": 5,
   "id": "e8a28f8e",
   "metadata": {},
   "outputs": [
    {
     "name": "stdout",
     "output_type": "stream",
     "text": [
      "1 5 6 5\n"
     ]
    }
   ],
   "source": [
    "def func(a,b,c=8,d=5):\n",
    "    print(a,b,c,d)\n",
    "func(1,*(5,6))"
   ]
  },
  {
   "cell_type": "markdown",
   "id": "3bdf52ad",
   "metadata": {},
   "source": [
    "# 6. what is the result of this, and explain?\n",
    "&gt;&gt;&gt; def func(a, b, c): a = 2; b[0] = &#39;x&#39;; c[&#39;a&#39;] = &#39;y&#39; <br>\n",
    "&gt;&gt;&gt; l=1; m=[1]; n={&#39;a&#39;:0} <br>\n",
    "&gt;&gt;&gt; func(l, m, n)<br>\n",
    "\n",
    "&gt;&gt;&gt; l, m, n"
   ]
  },
  {
   "cell_type": "code",
   "execution_count": 6,
   "id": "9b79b097",
   "metadata": {},
   "outputs": [
    {
     "data": {
      "text/plain": [
       "(1, ['x'], {'a': 'y'})"
      ]
     },
     "execution_count": 6,
     "metadata": {},
     "output_type": "execute_result"
    }
   ],
   "source": [
    "def func(a, b, c): a = 2; b[0] = 'x'; c['a'] = 'y'\n",
    "l=1; m=[1]; n={'a':0}\n",
    "func(l, m, n)\n",
    "l,m,n"
   ]
  }
 ],
 "metadata": {
  "kernelspec": {
   "display_name": "Python 3 (ipykernel)",
   "language": "python",
   "name": "python3"
  },
  "language_info": {
   "codemirror_mode": {
    "name": "ipython",
    "version": 3
   },
   "file_extension": ".py",
   "mimetype": "text/x-python",
   "name": "python",
   "nbconvert_exporter": "python",
   "pygments_lexer": "ipython3",
   "version": "3.9.7"
  }
 },
 "nbformat": 4,
 "nbformat_minor": 5
}
