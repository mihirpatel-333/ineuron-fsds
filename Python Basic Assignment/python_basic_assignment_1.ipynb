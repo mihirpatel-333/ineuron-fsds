{
 "cells": [
  {
   "cell_type": "markdown",
   "id": "66c53673",
   "metadata": {},
   "source": [
    "### 1. In the below elements which of them are values or an expression? eg:- values can be integer or string and expressions will be mathematical operators."
   ]
  },
  {
   "cell_type": "code",
   "execution_count": 1,
   "id": "414b3645",
   "metadata": {},
   "outputs": [
    {
     "data": {
      "text/plain": [
       "4"
      ]
     },
     "execution_count": 1,
     "metadata": {},
     "output_type": "execute_result"
    }
   ],
   "source": [
    "# 1) *\n",
    "2 * 2\n",
    "# * is multiplication operation expression"
   ]
  },
  {
   "cell_type": "code",
   "execution_count": 2,
   "id": "fcc184e2",
   "metadata": {},
   "outputs": [
    {
     "data": {
      "text/plain": [
       "'hello'"
      ]
     },
     "execution_count": 2,
     "metadata": {},
     "output_type": "execute_result"
    }
   ],
   "source": [
    "# 2) 'hello'\n",
    "'hello'\n",
    "# this is string values "
   ]
  },
  {
   "cell_type": "code",
   "execution_count": 3,
   "id": "552eded8",
   "metadata": {},
   "outputs": [
    {
     "data": {
      "text/plain": [
       "0"
      ]
     },
     "execution_count": 3,
     "metadata": {},
     "output_type": "execute_result"
    }
   ],
   "source": [
    "# 1) -\n",
    "2 - 2\n",
    "# - is subtraction operation expression"
   ]
  },
  {
   "cell_type": "code",
   "execution_count": 4,
   "id": "4f3d3d85",
   "metadata": {},
   "outputs": [
    {
     "data": {
      "text/plain": [
       "1.0"
      ]
     },
     "execution_count": 4,
     "metadata": {},
     "output_type": "execute_result"
    }
   ],
   "source": [
    "# 1) /\n",
    "2 / 2\n",
    "# / is division operation expression"
   ]
  },
  {
   "cell_type": "code",
   "execution_count": 5,
   "id": "3f4376f6",
   "metadata": {},
   "outputs": [
    {
     "data": {
      "text/plain": [
       "4"
      ]
     },
     "execution_count": 5,
     "metadata": {},
     "output_type": "execute_result"
    }
   ],
   "source": [
    "# 1) +\n",
    "2 + 2\n",
    "# + is addition operation expression"
   ]
  },
  {
   "cell_type": "code",
   "execution_count": 6,
   "id": "45b9c94b",
   "metadata": {},
   "outputs": [
    {
     "data": {
      "text/plain": [
       "6"
      ]
     },
     "execution_count": 6,
     "metadata": {},
     "output_type": "execute_result"
    }
   ],
   "source": [
    "# 1) 6\n",
    "6\n",
    "#  this is integer values "
   ]
  },
  {
   "cell_type": "markdown",
   "id": "55feb650",
   "metadata": {},
   "source": [
    "### 2. What is the difference between string and variable?\n",
    "- variable is a name that can store values. where string is datatype \n",
    "- variable store multiple datatypes in python. A String is a group of characters or a single character usually enclosed in Double quotes  ``''``, ``\"\"``\n"
   ]
  },
  {
   "cell_type": "code",
   "execution_count": 7,
   "id": "820f8e7b",
   "metadata": {},
   "outputs": [
    {
     "name": "stdout",
     "output_type": "stream",
     "text": [
      "mihir\n"
     ]
    }
   ],
   "source": [
    "x = \"mihir\"\n",
    "# here x is variable that can store value and \"mihir\" is  string\n",
    "print(x)"
   ]
  },
  {
   "cell_type": "markdown",
   "id": "e0d395c4",
   "metadata": {},
   "source": [
    "### 3. Describe three different data types.\n",
    "\n",
    "- in python there are many datatypes like - `` integer, string, boolean, complex, float etc ``. <br>\n",
    "- 1) <b>integer</b> - integer is used to represent numeric values\n",
    "- 2) <b>string</b> - string is used to represent charcters\n",
    "- 3) <b>float</b> - float is used to represent floating point values\n"
   ]
  },
  {
   "cell_type": "code",
   "execution_count": 10,
   "id": "d7e485eb",
   "metadata": {},
   "outputs": [
    {
     "name": "stdout",
     "output_type": "stream",
     "text": [
      "12 <class 'int'>\n",
      "mihir <class 'str'>\n",
      "88.55 <class 'float'>\n"
     ]
    }
   ],
   "source": [
    "# integer\n",
    "x = 12\n",
    "print(x, type(x))\n",
    "\n",
    "# string\n",
    "y = \"mihir\"\n",
    "print(y, type(y))\n",
    "\n",
    "# float\n",
    "z = 88.55\n",
    "print(z, type(z))"
   ]
  },
  {
   "cell_type": "markdown",
   "id": "dfa737fa",
   "metadata": {},
   "source": [
    "### 4. What is an expression made up of? What do all expressions do?\n",
    "- an expression is collection of mathemetic symbol\n",
    "- an expression is combination of variable, values and operators. expression needs to be evaluated"
   ]
  },
  {
   "cell_type": "code",
   "execution_count": null,
   "id": "f327b072",
   "metadata": {},
   "outputs": [],
   "source": [
    "x + 4 # an expression"
   ]
  },
  {
   "cell_type": "markdown",
   "id": "68be84ce",
   "metadata": {},
   "source": [
    "### 5. This assignment statements, like spam = 10. What is the difference between an expression and a statement?\n",
    "- an expression evaluates to a value\n",
    "- statement does something"
   ]
  },
  {
   "cell_type": "code",
   "execution_count": null,
   "id": "a942546e",
   "metadata": {},
   "outputs": [],
   "source": [
    "spam = 10 # statement\n",
    "spam + 2 # an expression"
   ]
  },
  {
   "cell_type": "markdown",
   "id": "2ed90aed",
   "metadata": {},
   "source": [
    "### 6. After running the following code, what does the variable bacon contain?\n",
    "``bacon = 22``<br>\n",
    "``bacon + 1``<br>\n",
    "<b>Without print()</b>\n",
    "- In ``jupyter notebook`` if you run this code without print() so bacon value already save in memory. it does arithemetic operations but and result is ``23`` "
   ]
  },
  {
   "cell_type": "code",
   "execution_count": 18,
   "id": "11e3a620",
   "metadata": {},
   "outputs": [
    {
     "data": {
      "text/plain": [
       "23"
      ]
     },
     "execution_count": 18,
     "metadata": {},
     "output_type": "execute_result"
    }
   ],
   "source": [
    "bacon = 22\n",
    "bacon + 1"
   ]
  },
  {
   "cell_type": "markdown",
   "id": "7e0eac88",
   "metadata": {},
   "source": [
    "<b>With print()</b>\n",
    "- after running this statement it gives ``22`` because it's not reassgin bacon value. you need to write in \n",
    "```bacon = bacon +1```"
   ]
  },
  {
   "cell_type": "code",
   "execution_count": 22,
   "id": "3c318e5f",
   "metadata": {},
   "outputs": [
    {
     "name": "stdout",
     "output_type": "stream",
     "text": [
      "22\n"
     ]
    }
   ],
   "source": [
    "bacon = 22\n",
    "bacon = print(bacon)"
   ]
  },
  {
   "cell_type": "markdown",
   "id": "a62cd848",
   "metadata": {},
   "source": [
    "### 7. What should the values of the following two terms be?\n",
    "```'spam' + 'spamspam' ```<br>\n",
    "```'spam' * 3```<br>\n",
    "\n",
    "- the results of both terms will be same ``spamspamspam`` because first is string concatination and second one is string multiplication"
   ]
  },
  {
   "cell_type": "code",
   "execution_count": 26,
   "id": "c7592317",
   "metadata": {},
   "outputs": [
    {
     "name": "stdout",
     "output_type": "stream",
     "text": [
      "spamspamspam\n",
      "spamspamspam\n"
     ]
    }
   ],
   "source": [
    "print('spam' + 'spamspam')\n",
    "print('spam' * 3)"
   ]
  },
  {
   "cell_type": "markdown",
   "id": "b3898ecc",
   "metadata": {},
   "source": [
    "### 8. Why is eggs a valid variable name while 100 is invalid?\n",
    "- because rule in  python variable name always start with charcter. The python rules are <br>\n",
    "- 1) The variable name always start with character or _<br>\n",
    "- 2) variable cannot start with number<br>\n",
    "- 3) variable name contain only alpha numeric values and underscore A-z, 0-9 and _<br>\n",
    "- 4) variable are case sensitive - MIHIR & mihir are diffrent<br>\n",
    "etc."
   ]
  },
  {
   "cell_type": "markdown",
   "id": "43b3de16",
   "metadata": {},
   "source": [
    "### 9. What three functions can be used to get the integer, floating-point number, or string version of a value?\n",
    "- to represent integer, floating and string we use ```int()```, ``str()``, ``float()``"
   ]
  },
  {
   "cell_type": "code",
   "execution_count": 33,
   "id": "d4976bda",
   "metadata": {},
   "outputs": [
    {
     "name": "stdout",
     "output_type": "stream",
     "text": [
      "integer of 33.333 is -  33 <class 'int'>\n",
      "float of 33 is -  33.0 <class 'float'>\n",
      "string of 33 is -  33 <class 'str'>\n"
     ]
    }
   ],
   "source": [
    "print('integer of 33.333 is - ', int(33.333), type(int(33.333)))\n",
    "print('float of 33 is - ', float(33), type(float(33)))\n",
    "print('string of 33 is - ', str(33), type(str(33)))"
   ]
  },
  {
   "cell_type": "markdown",
   "id": "002c291f",
   "metadata": {},
   "source": [
    "### 10. Why does this expression cause an error? How can you fix it?\n",
    "`` 'I have eaten'  + 99 +  'burritos'``\n",
    "- it's giving error because we do addition operation with diffrent data types and python is a ``strong typing`` so we need to do addition with same datatype.<br>\n",
    "- we need to convert 99 into ``string`` so all are same datatype"
   ]
  },
  {
   "cell_type": "code",
   "execution_count": 34,
   "id": "32e67eee",
   "metadata": {},
   "outputs": [
    {
     "ename": "TypeError",
     "evalue": "can only concatenate str (not \"int\") to str",
     "output_type": "error",
     "traceback": [
      "\u001b[1;31m---------------------------------------------------------------------------\u001b[0m",
      "\u001b[1;31mTypeError\u001b[0m                                 Traceback (most recent call last)",
      "\u001b[1;32mC:\\Users\\MIHIRD~1\\AppData\\Local\\Temp/ipykernel_3688/3183431362.py\u001b[0m in \u001b[0;36m<module>\u001b[1;34m\u001b[0m\n\u001b[0;32m      1\u001b[0m \u001b[1;31m## ERROR\u001b[0m\u001b[1;33m\u001b[0m\u001b[1;33m\u001b[0m\u001b[1;33m\u001b[0m\u001b[0m\n\u001b[1;32m----> 2\u001b[1;33m \u001b[1;34m'I have eaten'\u001b[0m  \u001b[1;33m+\u001b[0m \u001b[1;36m99\u001b[0m \u001b[1;33m+\u001b[0m  \u001b[1;34m'burritos'\u001b[0m\u001b[1;33m\u001b[0m\u001b[1;33m\u001b[0m\u001b[0m\n\u001b[0m",
      "\u001b[1;31mTypeError\u001b[0m: can only concatenate str (not \"int\") to str"
     ]
    }
   ],
   "source": [
    "## ERROR\n",
    "'I have eaten'  + 99 +  'burritos'"
   ]
  },
  {
   "cell_type": "code",
   "execution_count": 37,
   "id": "6a2239e8",
   "metadata": {},
   "outputs": [
    {
     "data": {
      "text/plain": [
       "'I have eaten 99 burritos'"
      ]
     },
     "execution_count": 37,
     "metadata": {},
     "output_type": "execute_result"
    }
   ],
   "source": [
    "## SOLUTION - 1\n",
    "'I have eaten '  + '99' +  ' burritos'"
   ]
  },
  {
   "cell_type": "code",
   "execution_count": 40,
   "id": "c8bed9e2",
   "metadata": {},
   "outputs": [
    {
     "data": {
      "text/plain": [
       "'I have eaten 99 burritos'"
      ]
     },
     "execution_count": 40,
     "metadata": {},
     "output_type": "execute_result"
    }
   ],
   "source": [
    "## SOLUTION - 2\n",
    "'I have eaten '  + str(99) +  ' burritos'"
   ]
  },
  {
   "cell_type": "code",
   "execution_count": null,
   "id": "c80ea730",
   "metadata": {},
   "outputs": [],
   "source": []
  }
 ],
 "metadata": {
  "kernelspec": {
   "display_name": "Python 3 (ipykernel)",
   "language": "python",
   "name": "python3"
  },
  "language_info": {
   "codemirror_mode": {
    "name": "ipython",
    "version": 3
   },
   "file_extension": ".py",
   "mimetype": "text/x-python",
   "name": "python",
   "nbconvert_exporter": "python",
   "pygments_lexer": "ipython3",
   "version": "3.8.12"
  }
 },
 "nbformat": 4,
 "nbformat_minor": 5
}
