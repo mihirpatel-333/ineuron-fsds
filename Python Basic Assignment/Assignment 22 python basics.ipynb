{
 "cells": [
  {
   "cell_type": "markdown",
   "id": "dc9f9553",
   "metadata": {},
   "source": [
    " # 1. What is the result of the code, and explain?\n",
    "\n",
    "&gt;&gt;&gt; X = &#39;iNeuron&#39; <br>\n",
    "&gt;&gt;&gt; def func(): <br>\n",
    "print(X) <br>\n",
    "\n",
    "&gt;&gt;&gt; func()"
   ]
  },
  {
   "cell_type": "code",
   "execution_count": 1,
   "id": "4de3760b",
   "metadata": {},
   "outputs": [
    {
     "name": "stdout",
     "output_type": "stream",
     "text": [
      "iNeuron\n"
     ]
    }
   ],
   "source": [
    "X = 'iNeuron'\n",
    "def func():\n",
    "    print(X)\n",
    "func()"
   ]
  },
  {
   "cell_type": "markdown",
   "id": "ecffb84f",
   "metadata": {},
   "source": [
    "# 2. What is the result of the code, and explain?\n",
    "\n",
    "&gt;&gt;&gt; X = &#39;iNeuron&#39; <br>\n",
    "&gt;&gt;&gt; def func(): <br>\n",
    "X = &#39;NI!&#39; <br>\n",
    "\n",
    "&gt;&gt;&gt; func() <br>\n",
    "&gt;&gt;&gt; print(X)"
   ]
  },
  {
   "cell_type": "code",
   "execution_count": 2,
   "id": "47b9077c",
   "metadata": {},
   "outputs": [
    {
     "name": "stdout",
     "output_type": "stream",
     "text": [
      "NI!\n"
     ]
    }
   ],
   "source": [
    "X = 'iNeuron'\n",
    "def func():\n",
    "    X = 'NI!'\n",
    "    print(X)\n",
    "func()"
   ]
  },
  {
   "cell_type": "markdown",
   "id": "8e3f03a9",
   "metadata": {},
   "source": [
    "# 3. What does this code print, and why?\n",
    "\n",
    "&gt;&gt;&gt; X = &#39;iNeuron&#39; <br>\n",
    "&gt;&gt;&gt; def func(): <br>\n",
    "X = &#39;NI&#39; <br>\n",
    "print(X) <br>\n",
    "\n",
    "&gt;&gt;&gt; func() <br>\n",
    "&gt;&gt;&gt; print(X)"
   ]
  },
  {
   "cell_type": "code",
   "execution_count": 3,
   "id": "5e9cbb5e",
   "metadata": {},
   "outputs": [
    {
     "name": "stdout",
     "output_type": "stream",
     "text": [
      "NI\n",
      "iNeuron\n"
     ]
    }
   ],
   "source": [
    "X = 'iNeuron'\n",
    "def func():\n",
    "    X = 'NI'\n",
    "    print(X)\n",
    "func()\n",
    "print(X)"
   ]
  },
  {
   "cell_type": "markdown",
   "id": "923f910e",
   "metadata": {},
   "source": [
    "# 4. What output does this code produce? Why?\n",
    "\n",
    "&gt;&gt;&gt; X = &#39;iNeuron&#39; <br>\n",
    "&gt;&gt;&gt; def func(): <br>\n",
    "global X <br>\n",
    "X = &#39;NI&#39; <br>\n",
    "\n",
    "&gt;&gt;&gt; func()<br>\n",
    "&gt;&gt;&gt; print(X)"
   ]
  },
  {
   "cell_type": "code",
   "execution_count": 4,
   "id": "42a565bd",
   "metadata": {},
   "outputs": [
    {
     "name": "stdout",
     "output_type": "stream",
     "text": [
      "NI\n"
     ]
    }
   ],
   "source": [
    "X = 'iNeuron'\n",
    "def func():\n",
    "    global X\n",
    "    X = 'NI'\n",
    "func()\n",
    "print(X)"
   ]
  },
  {
   "cell_type": "markdown",
   "id": "861e9f41",
   "metadata": {},
   "source": [
    "# 5. What about this code—what’s the output, and why?\n",
    "\n",
    "&gt;&gt;&gt; X = &#39;iNeuron&#39; <br>\n",
    "&gt;&gt;&gt; def func(): <br>\n",
    "X = &#39;NI&#39; <br>\n",
    "def nested(): <br>\n",
    "print(X) <br>\n",
    "nested() <br>\n",
    "\n",
    "&gt;&gt;&gt; func() <br>\n",
    "&gt;&gt;&gt; X"
   ]
  },
  {
   "cell_type": "code",
   "execution_count": 5,
   "id": "d0bd5ccf",
   "metadata": {},
   "outputs": [
    {
     "name": "stdout",
     "output_type": "stream",
     "text": [
      "NI\n"
     ]
    },
    {
     "data": {
      "text/plain": [
       "'iNeuron'"
      ]
     },
     "execution_count": 5,
     "metadata": {},
     "output_type": "execute_result"
    }
   ],
   "source": [
    "X = 'iNeuron'\n",
    "def func():\n",
    "    X = 'NI'\n",
    "    def nested():\n",
    "        print(X)\n",
    "    nested()\n",
    "func()\n",
    "X"
   ]
  },
  {
   "cell_type": "markdown",
   "id": "713aa646",
   "metadata": {},
   "source": [
    "6. How about this code: what is its output in Python 3, and explain?\n",
    "\n",
    "&gt;&gt;&gt; def func():\n",
    "X = &#39;NI&#39; <br>\n",
    "def nested(): <br>\n",
    "nonlocal X <br>\n",
    "X = &#39;Spam&#39; <br>\n",
    "nested() <br>\n",
    "print(X) <br>\n",
    "\n",
    "&gt;&gt;&gt; func()"
   ]
  },
  {
   "cell_type": "code",
   "execution_count": 6,
   "id": "69438427",
   "metadata": {},
   "outputs": [
    {
     "name": "stdout",
     "output_type": "stream",
     "text": [
      "Spam\n"
     ]
    }
   ],
   "source": [
    "def func():\n",
    "    X = 'NI'\n",
    "    def nested():\n",
    "        nonlocal X\n",
    "        X = 'Spam'\n",
    "    nested()\n",
    "    print(X)\n",
    "func()"
   ]
  }
 ],
 "metadata": {
  "kernelspec": {
   "display_name": "Python 3 (ipykernel)",
   "language": "python",
   "name": "python3"
  },
  "language_info": {
   "codemirror_mode": {
    "name": "ipython",
    "version": 3
   },
   "file_extension": ".py",
   "mimetype": "text/x-python",
   "name": "python",
   "nbconvert_exporter": "python",
   "pygments_lexer": "ipython3",
   "version": "3.9.7"
  }
 },
 "nbformat": 4,
 "nbformat_minor": 5
}
