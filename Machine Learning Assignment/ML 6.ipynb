{
 "cells": [
  {
   "cell_type": "markdown",
   "id": "f0a7a139",
   "metadata": {},
   "source": [
    "# 1. In the sense of machine learning, what is a model? What is the best way to train a model?"
   ]
  },
  {
   "cell_type": "markdown",
   "id": "e3cbbd00",
   "metadata": {},
   "source": [
    "<b>Ans:</b> A Machine Learning Model is a file that has been trained to recognize certain types of patterns. You train a model over a set of data, providing it an algorithm that it can use to reason over and learn from those data.\n",
    "\n",
    "1. <b>Model Naming</b> — Give Your Model a Name, Let’s start with giving your model a name, describe your model and attach tags to your model. Tags are to make your model searchable.\n",
    "2. <b>Data Type Selection</b> — Choose data type(Images/Text/CSV), It’s time to tell us about the type of data you want to train your model. ML Models support Images, Text and *.CSV (categorical data) data types.\n",
    "3. <b>Data Upload</b> — Upload your data or choose from Public Data Sets: Choose from public datasets like Jewellery Data set (Images), Gender Data Set (Images), Question or Sentence Data Set (Text), Numerai Data Set (CSV) or upload your data.\n",
    "4. <b>Type category(label)</b> for the files (images/text file) that you have uploaded and click on submit to begin upload. Wait for some time till our web app uploads all the files. You can upload images for as many categories as possible.\n",
    "5. <b>Start Training </b>- Push the button, to start the training. Now Mateverse’s intelligent backend will start with processing the data that you have uploaded and preparing it for the training."
   ]
  },
  {
   "cell_type": "markdown",
   "id": "b7c8ce72",
   "metadata": {},
   "source": [
    "# 2. In the sense of machine learning, explain the &quot;No Free Lunch&quot; theorem."
   ]
  },
  {
   "cell_type": "markdown",
   "id": "670df9f9",
   "metadata": {},
   "source": [
    "<b>Ans:</b> The No Free Lunch Theorem, often abbreviated as NFL or NFLT, is a theoretical finding that suggests all optimization algorithms perform equally well when their performance is averaged over all possible objective functions. In computational complexity and optimization the no free lunch theorem is a result that states that for certain types of mathematical problems, the computational cost of finding a solution, averaged over all problems in the class, is the same for any solution method.\n",
    "\n",
    "In Simple Words “No Free Lunch” theorem means we can’t rely on one model to be best of all models. We have to understand data properly and make use of ML understanding and make use of models to find best out of it."
   ]
  },
  {
   "cell_type": "markdown",
   "id": "564681af",
   "metadata": {},
   "source": [
    "# 3. Describe the K-fold cross-validation mechanism in detail."
   ]
  },
  {
   "cell_type": "markdown",
   "id": "32662e4d",
   "metadata": {},
   "source": [
    "<b>Ans: </b>The No Free Lunch Theorem, often abbreviated as NFL or NFLT, is a theoretical finding that suggests all optimization algorithms perform equally well when their performance is averaged over all possible objective functions. In computational complexity and optimization the no free lunch theorem is a result that states that for certain types of mathematical problems, the computational cost of finding a solution, averaged over all problems in the class, is the same for any solution method.\n",
    "\n",
    "In Simple Words “No Free Lunch” theorem means we can’t rely on one model to be best of all models. We have to understand data properly and make use of ML understanding and make use of models to find best out of it."
   ]
  },
  {
   "cell_type": "markdown",
   "id": "30b1f1d6",
   "metadata": {},
   "source": [
    "# 4. Describe the bootstrap sampling method. What is the aim of it?"
   ]
  },
  {
   "cell_type": "markdown",
   "id": "5b2045f6",
   "metadata": {},
   "source": [
    "<b>Ans: </b>The bootstrap method is a statistical technique for estimating quantities about a population by averaging estimates from multiple small data samples.\n",
    "\n",
    "Importantly, samples are constructed by drawing observations from a large data sample one at a time and returning them to the data sample after they have been chosen. This allows a given observation to be included in a given small sample more than once. This approach to sampling is called sampling with replacement."
   ]
  },
  {
   "cell_type": "markdown",
   "id": "aceb6f28",
   "metadata": {},
   "source": [
    "# 5. What is the significance of calculating the Kappa value for a classification model? Demonstrate how to measure the Kappa value of a classification model using a sample collection of results."
   ]
  },
  {
   "cell_type": "markdown",
   "id": "57e1edc0",
   "metadata": {},
   "source": [
    "<b>Ans: </b>Kappa value or Cohen's Kappa coefficient is an evaluation metric for classification models. Its significance as an evaluation metric is that it can be used to evaluate multi class classification models and also works on models trained on imbalanced datasets(scores like accuracy scores fail for imbalanced datasets).\n",
    "\n",
    "In simpler words It basically tells you how much better your classifier is performing over the performance of a classifier that simply guesses at random according to the frequency of each class. Cohen's kappa is always less than or equal to 1. Values of 0 or less, indicate that the classifier is useless Cohen suggested the Kappa result be interpreted as follows: values ≤ 0 as indicating no agreement and 0.01–0.20 as none to slight, 0.21–0.40 as fair, 0.41– 0.60 as moderate, 0.61–0.80 as substantial, and 0.81–1.00 as almost perfect agreement."
   ]
  },
  {
   "cell_type": "markdown",
   "id": "2d1aebbf",
   "metadata": {},
   "source": [
    "# 6. Describe the model ensemble method. In machine learning, what part does it play?"
   ]
  },
  {
   "cell_type": "markdown",
   "id": "22767e63",
   "metadata": {},
   "source": [
    "<b>Ans:</b> Ensemble methods or ensemble machine learning models are models where more than one models are being used spontaneously to produce better results than individually trained models."
   ]
  },
  {
   "cell_type": "markdown",
   "id": "9136beb5",
   "metadata": {},
   "source": [
    "# 7. What is a descriptive model&#39;s main purpose? Give examples of real-world problems that descriptive models were used to solve."
   ]
  },
  {
   "cell_type": "markdown",
   "id": "94917cee",
   "metadata": {},
   "source": [
    "<b>Ans: </b>A descriptive model is used for tasks that would benefit from the insight gained from summarizing data in new and interesting ways. As opposed to predictive models that predict a target of interest, in a descriptive model, no single feature is more important than any other. In fact, because there is no target to learn, the process of training a descriptive model is called unsupervised learning.\n",
    "\n",
    "It is used in customer classification as real life problem ."
   ]
  },
  {
   "cell_type": "markdown",
   "id": "eec0c1d9",
   "metadata": {},
   "source": [
    "# 8. Describe how to evaluate a linear regression model.\n"
   ]
  },
  {
   "cell_type": "markdown",
   "id": "2b2a5faa",
   "metadata": {},
   "source": [
    "<b>Ans:</b> Evaluation of a linear regression model can be done using R-square. R square is calculated as the sum of squared errors in predictions made, divided by summation of all sum of squares. R square measures how much of the change in target variable can be explained by the linear regressor. Its value ranges from 0 to 1 where 0 means poor performance and 1 means good. Some other techniques which can be used to evaluate a linear regression model are:\n",
    "\n",
    "1 Mean Square Error(MSE)/Root Mean Square Error(RMSE) <br>\n",
    "2 Mean Absolute Error(MAE)"
   ]
  },
  {
   "cell_type": "markdown",
   "id": "9c688a36",
   "metadata": {},
   "source": [
    "# 9. Distinguish :\n",
    "\n",
    "Descriptive vs. predictive models <br>\n",
    "Underfitting vs. overfitting the model <br>\n",
    "Bootstrapping vs. cross-validation"
   ]
  },
  {
   "cell_type": "markdown",
   "id": "9b60e389",
   "metadata": {},
   "source": [
    "<b>Ans: </b>The differences between:\n",
    "\n",
    "* <b>Descriptive vs. predictive models </b><br>\n",
    "  * Descriptive models are built to identify trends and underlying patterns.\n",
    "  * Predictive models are built to predict a dependent variable value.\n",
    "  * Most of descriptive models are built using unsupervised machine learning.\n",
    "  * Most of predictive models are built using classification and regression models.\n",
    "  * Example for descriptive model: Finding why consumers are engaging more with a social media post.\n",
    "  * Example for predictive model: Predicting the chances of cancer in a patient.\n",
    "  \n",
    "*<b> Underfitting vs. overfitting the model</b> <br>\n",
    "  * Underfitting is a situation arising when the hypothesis is way too simple, or when the machine learning model is way too simple to produce good results.\n",
    "  * Overfitting is a situation arising when the hypothesis is way too complex, or when the machine learning model is way too complex to produce good results.\n",
    "  * Underfitting causes a model to produce poor results due to heavily simplified algorithm reacting lightly to changes in the unseen data for independent variables from the training data.\n",
    "  * Overfitting makes a model produce poor results due to slightest variations in the unseen data for independent variables from the training data\n",
    "  * Underfitting is also called High Bias.\n",
    "  * Overfitting is also called High variance\n",
    "  \n",
    "* <b>Bootstrapping vs cross-validation</b> <br>\n",
    "  * Boostrap sampling is a method of sampling in which the repeated sampling is done with replacement using a data D in random draws over which machine learning models are trained for better performance.\n",
    "  * Cross validation is a method used to check the efficacy of the machine learning model on test data.\n",
    "  * End goal of bootstrapping is to reduce overfitting and increase performance.\n",
    "  * End goal of cross validation is only to produce test scores to check efficacy of model\n",
    "  * Bootstrapping is best employed in Random Forest Classifier.\n",
    "  * Cross Validation is best employed using K-fold cross validation technique.  "
   ]
  },
  {
   "cell_type": "markdown",
   "id": "96c29c08",
   "metadata": {},
   "source": [
    "# 10. Make quick notes on:\n",
    "\n",
    "LOOCV. <br>\n",
    "F-measurement\n",
    "The width of the silhouette\n",
    "Receiver operating characteristic curve"
   ]
  },
  {
   "cell_type": "code",
   "execution_count": null,
   "id": "900e04ea",
   "metadata": {},
   "outputs": [],
   "source": []
  }
 ],
 "metadata": {
  "kernelspec": {
   "display_name": "Python 3 (ipykernel)",
   "language": "python",
   "name": "python3"
  },
  "language_info": {
   "codemirror_mode": {
    "name": "ipython",
    "version": 3
   },
   "file_extension": ".py",
   "mimetype": "text/x-python",
   "name": "python",
   "nbconvert_exporter": "python",
   "pygments_lexer": "ipython3",
   "version": "3.9.7"
  }
 },
 "nbformat": 4,
 "nbformat_minor": 5
}
