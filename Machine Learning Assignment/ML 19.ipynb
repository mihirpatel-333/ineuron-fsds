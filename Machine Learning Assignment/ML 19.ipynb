{
 "cells": [
  {
   "cell_type": "markdown",
   "id": "3ba6a781",
   "metadata": {},
   "source": [
    "# 1. A set of one-dimensional data points is given to you: 5, 10, 15, 20, 25, 30, 35. Assume that k = 2 and that the first set of random centroid is 15, 32, and that the second set is 12, 30.\n",
    "a) Using the k-means method, create two clusters for each set of centroid described above. <br>\n",
    "b) For each set of centroid values, calculate the SSE. <br>"
   ]
  },
  {
   "cell_type": "markdown",
   "id": "44a69afe",
   "metadata": {},
   "source": [
    "# 2. Describe how the Market Basket Research makes use of association analysis concepts."
   ]
  },
  {
   "cell_type": "markdown",
   "id": "69d85e94",
   "metadata": {},
   "source": [
    "# 3. Give an example of the Apriori algorithm for learning association rules."
   ]
  },
  {
   "cell_type": "markdown",
   "id": "d7d9eef1",
   "metadata": {},
   "source": [
    "# 4. In hierarchical clustering, how is the distance between clusters measured? Explain how this metric is used to decide when to end the iteration."
   ]
  },
  {
   "cell_type": "markdown",
   "id": "e43cf118",
   "metadata": {},
   "source": [
    "# 5. In the k-means algorithm, how do you recompute the cluster centroids?"
   ]
  },
  {
   "cell_type": "markdown",
   "id": "e3499ad6",
   "metadata": {},
   "source": [
    "# 6. At the start of the clustering exercise, discuss one method for determining the required number of clusters."
   ]
  },
  {
   "cell_type": "markdown",
   "id": "3ede2a05",
   "metadata": {},
   "source": [
    "# 7. Discuss the k-means algorithm&#39;s advantages and disadvantages."
   ]
  },
  {
   "cell_type": "markdown",
   "id": "8de8e834",
   "metadata": {},
   "source": [
    "# 8. Draw a diagram to demonstrate the principle of clustering."
   ]
  },
  {
   "cell_type": "markdown",
   "id": "c122d34a",
   "metadata": {},
   "source": [
    "# 9. During your study, you discovered seven findings, which are listed in the data points below. Using the K-means algorithm, you want to build three clusters from these observations. The clusters C1, C2, and C3 have the following findings after the first iteration:\n",
    "\n",
    "C1: (2,2), (4,4), (6,6); C2: (2,2), (4,4), (6,6); C3: (2,2), (4,4), <br>\n",
    "\n",
    "C2: (0,4), (4,0), (0,4), (0,4), (0,4), (0,4), (0,4), (0,4), (0, <br>\n",
    "\n",
    "C3: (5,5) and (9,9) <br>\n",
    "\n",
    "What would the cluster centroids be if you were to run a second iteration? What would this\n",
    "clustering&#39;s SSE be? <br>\n",
    "\n"
   ]
  },
  {
   "cell_type": "markdown",
   "id": "a2655a30",
   "metadata": {},
   "source": [
    "# 10. In a software project, the team is attempting to determine if software flaws discovered during testing are identical. Based on the text analytics of the defect details, they decided to build 5 clusters of related defects. Any new defect formed after the 5 clusters of defects have been identified must be listed as one of the forms identified by clustering. A simple diagram can be used to explain this process. Assume you have 20 defect data points that are clustered into 5 clusters and you used the k-means algorithm."
   ]
  },
  {
   "cell_type": "code",
   "execution_count": null,
   "id": "45942de1",
   "metadata": {},
   "outputs": [],
   "source": []
  }
 ],
 "metadata": {
  "kernelspec": {
   "display_name": "Python 3 (ipykernel)",
   "language": "python",
   "name": "python3"
  },
  "language_info": {
   "codemirror_mode": {
    "name": "ipython",
    "version": 3
   },
   "file_extension": ".py",
   "mimetype": "text/x-python",
   "name": "python",
   "nbconvert_exporter": "python",
   "pygments_lexer": "ipython3",
   "version": "3.9.7"
  }
 },
 "nbformat": 4,
 "nbformat_minor": 5
}
