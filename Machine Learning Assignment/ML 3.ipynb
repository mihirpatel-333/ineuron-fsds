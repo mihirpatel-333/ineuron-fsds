{
 "cells": [
  {
   "cell_type": "markdown",
   "id": "56fb0fec",
   "metadata": {},
   "source": [
    "# 1.Explain the term machine learning, and how does it work? Explain two machine learning applications in the business world. What are some of the ethical concerns that machine learning applications could raise?"
   ]
  },
  {
   "cell_type": "markdown",
   "id": "e22df224",
   "metadata": {},
   "source": [
    "<b>Ans: </b>Machine Learning is a form of artificial intelligence (AI) that teaches computers to think in a similar way to how humans do: Learning and improving upon past experiences. It works by exploring data and identifying patterns, and involves minimal human intervention.\n",
    "\n",
    "There are various applications in Business World : <br>\n",
    "\n",
    "1 Real-time chatbot agents. <br>\n",
    "2 Decision support. <br>\n",
    "3 Customer recommendation engines. <br>\n",
    "4 Customer churn modeling. <br>\n",
    "5 Dynamic pricing tactics. <br>\n",
    "6 Market research and customer segmentation. <br>\n",
    "7 Fraud detection. <br>\n",
    "Also there are some of the ethical concerns that ML applications could raise : AI presents three major areas of ethical concern for society: Privacy and surveillance, bias and discrimination, and perhaps the deepest, most difficult philosophical question of the era, the role of human judgment."
   ]
  },
  {
   "cell_type": "markdown",
   "id": "57aa2c73",
   "metadata": {},
   "source": [
    "# 2. Describe the process of human learning:\n",
    "i. Under the supervision of experts <br>\n",
    "\n",
    "ii. With the assistance of experts in an indirect manner <br>\n",
    " \n",
    "iii. Self-education <br>"
   ]
  },
  {
   "cell_type": "markdown",
   "id": "7c879f1d",
   "metadata": {},
   "source": [
    "<b>Ans: </b>The processes of Human learning are described below:\n",
    "\n",
    "<b>Under the supervision of experts: </b> Human-guided machine learning is a process whereby subject matter experts accelerate the learning process by teaching the technology in real-time. For example, if the machine learning model comes across a piece of data it is uncertain about, a human can be asked to weigh in and give feedback. The model then learns from this input, and uses it to make a more accurate prediction the next time. Human-guided machine learning works from the bottom up by first using algorithms to conduct the heavy lifting of identifying relationships within the data, and engaging humans when necessary for training or validation Concept Learning.\n",
    "\n",
    "<b>With the assistance of experts in an indirect manner: </b> Well The process of an algorithm learning from the training dataset can be thought of as a teacher supervising the learning process. We know the correct answers, the algorithm iteratively makes predictions on the training data and is corrected by the teacher. Learning stops when the algorithm achieves an acceptable level of performance Operant Conditioning.\n",
    "\n",
    "<b>Self education: </b>Ability to recognize patterns, learn from data, and become more intelligent over time (can be AI or programmatically based).Machine Learning: AI systems with ability to automatically learn and improve from experience without being explicitly programmed via training Hebbian Learning."
   ]
  },
  {
   "cell_type": "markdown",
   "id": "8ffcf42a",
   "metadata": {},
   "source": [
    "# 3. Provide a few examples of various types of machine learning."
   ]
  },
  {
   "cell_type": "markdown",
   "id": "13e63179",
   "metadata": {},
   "source": [
    "<b>Ans: </b>Examples of Various types of Machine Learning techniques are:\n",
    "\n",
    "Example of <b>Supervised Learning</b> is text classification problems. In this set of problems, the goal is to predict the class label of a given piece of text. One particularly popular topic in text classification is to predict the sentiment of a piece of text, like a tweet or a product review,Image segmentation, Medical Diagnosis\n",
    "\n",
    "Example of <b>Unsupervised Learning</b> : Fraud detection, Malware detection, Anomaly detection, Clustering Analysis, Identification of human errors during data entry Conducting accurate basket analysis, etc.\n",
    "\n",
    "Example of <b>Reinforcement Learning</b> : Applications in self-driving cars, Industry automation : learning-based robots are used to perform various tasks."
   ]
  },
  {
   "cell_type": "markdown",
   "id": "bb7cec18",
   "metadata": {},
   "source": [
    "# 4. Examine the various forms of machine learning."
   ]
  },
  {
   "cell_type": "markdown",
   "id": "341e8358",
   "metadata": {},
   "source": [
    "<b>Ans: </b>These are three types of Machine Learning Techniques:\n",
    "\n",
    "- Supervised Learning <br>\n",
    "- Unsupervised Learning <br>\n",
    "- Reinforcement Learning."
   ]
  },
  {
   "cell_type": "markdown",
   "id": "f2dfd7f4",
   "metadata": {},
   "source": [
    "# 5. Can you explain what a well-posed learning problem is? Explain the main characteristics that must be present to identify a learning problem properly.\n",
    "\n"
   ]
  },
  {
   "cell_type": "markdown",
   "id": "1709ac43",
   "metadata": {},
   "source": [
    "<b>Ans:</b> Well Posed Learning Problem – A computer program is said to learn from experience E in context to some task T and some performance measure P, if its performance on T, as was measured by P, upgrades with experience E.Any problem can be segregated as well-posed learning problem if it has three traits – <b>Task, Performance and Experience.</b>"
   ]
  },
  {
   "cell_type": "markdown",
   "id": "4503f89a",
   "metadata": {},
   "source": []
  },
  {
   "cell_type": "markdown",
   "id": "8f726bac",
   "metadata": {},
   "source": []
  },
  {
   "cell_type": "markdown",
   "id": "beec4f7f",
   "metadata": {},
   "source": []
  },
  {
   "cell_type": "markdown",
   "id": "9de6ef66",
   "metadata": {},
   "source": []
  },
  {
   "cell_type": "markdown",
   "id": "59dc5f20",
   "metadata": {},
   "source": []
  },
  {
   "cell_type": "code",
   "execution_count": null,
   "id": "dc5c0fc6",
   "metadata": {},
   "outputs": [],
   "source": []
  }
 ],
 "metadata": {
  "kernelspec": {
   "display_name": "Python 3 (ipykernel)",
   "language": "python",
   "name": "python3"
  },
  "language_info": {
   "codemirror_mode": {
    "name": "ipython",
    "version": 3
   },
   "file_extension": ".py",
   "mimetype": "text/x-python",
   "name": "python",
   "nbconvert_exporter": "python",
   "pygments_lexer": "ipython3",
   "version": "3.9.7"
  }
 },
 "nbformat": 4,
 "nbformat_minor": 5
}
