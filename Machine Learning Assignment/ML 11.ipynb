{
 "cells": [
  {
   "cell_type": "markdown",
   "id": "4ea6bbad",
   "metadata": {},
   "source": [
    "# 1. Given X be a discrete random variable with the following PMF\n",
    "\n",
    "1. Find the range RX of the random variable X. <br>\n",
    "2. Find P(X ≤ 0.5) <br>\n",
    "3. Find P(0.25&lt;X&lt;0.75) <br>\n",
    "4. P(X = 0.2|X&lt;0.6) <br>"
   ]
  },
  {
   "cell_type": "code",
   "execution_count": null,
   "id": "988d1093",
   "metadata": {},
   "outputs": [],
   "source": []
  },
  {
   "cell_type": "markdown",
   "id": "afd5042c",
   "metadata": {},
   "source": [
    "# 2. Two equal and fair dice are rolled, and we observed two numbers X and Y.\n",
    "1. Find RX, RY, and the PMFs of X and Y. <br>\n",
    "2. Find P(X = 2,Y = 6). <br>\n",
    "3. Find P(X&gt;3|Y = 2). <>\n",
    "4. If Z = X + Y. Find the range and PMF of Z. <br>\n",
    "5. Find P(X = 4|Z = 8). <br>"
   ]
  },
  {
   "cell_type": "code",
   "execution_count": null,
   "id": "c0ac51f5",
   "metadata": {},
   "outputs": [],
   "source": []
  },
  {
   "cell_type": "markdown",
   "id": "5a9fe901",
   "metadata": {},
   "source": [
    "# 3. In an exam, there were 20 multiple-choice questions. Each question had 44 possible options. A student knew the answer to 10 questions, but the other 10 questions were unknown to him, and he chose answers randomly. If the student X&#39;s score is equal to the total number of correct answers, then find out the PMF of X. What is P(X&gt;15)?"
   ]
  },
  {
   "cell_type": "code",
   "execution_count": null,
   "id": "a1890f80",
   "metadata": {},
   "outputs": [],
   "source": []
  },
  {
   "cell_type": "markdown",
   "id": "6efa31ce",
   "metadata": {},
   "source": [
    "# 4. The number of students arriving at a college between a time interval is a Poisson random variable. On average, 10 students arrive per hour. Let Y be the number of students arriving from 10 am to 11:30 am. What is P(10&lt;Y≤15)?\n"
   ]
  },
  {
   "cell_type": "code",
   "execution_count": null,
   "id": "eb9a4193",
   "metadata": {},
   "outputs": [],
   "source": []
  },
  {
   "cell_type": "markdown",
   "id": "b96ddc3e",
   "metadata": {},
   "source": [
    "# 5.Two independent random variables, X and Y,are given such that X~Poisson(α) and Y~Poisson(β). State a new random variable as Z = X + Y. Find out the PMF of Z.\n",
    "6. There is a discrete random variable X with the pmf. \n",
    "\n",
    "If we define a new random variable Y = (X + 1)2 then <br>\n",
    "\n",
    "1. Find the range of Y. <br>\n",
    " \n",
    "2. Find the pmf of Y. <br>\n",
    "\n",
    "2.Assuming X is a continuous random variable with PDF <br>\n",
    "\n",
    "1. Find EX and Var(X). <br>\n",
    "2. Find P(X ≥ ). <br>\n",
    "\n",
    "2. If X is a continuous random variable with pdf <br>\n",
    "\n",
    "3. If X~Uniform and Y = sin(X), then find f Y (y). <br>\n",
    "4. If X is a random variable with CDF  <br>\n",
    "\n",
    "1. What kind of random variable is X: discrete, continuous, or mixed? <br>\n",
    "\n",
    "2. Find the PDF of X, fX(x). <br>\n",
    "3. Find E(e X ). <br>\n",
    "4. Find P(X = 0|X≤0.5). <br>\n",
    "\n",
    "2. There are two random variables X and Y with joint PMF given in Table below <br>\n",
    "\n",
    "1. Find P(X≤2, Y≤4). <br>\n",
    "2. Find the marginal PMFs of X and Y. <br>\n",
    "3. Find P(Y = 2|X = 1). <br>\n",
    "4. Are X and Y independent? <br>\n"
   ]
  },
  {
   "cell_type": "code",
   "execution_count": null,
   "id": "01913508",
   "metadata": {},
   "outputs": [],
   "source": []
  },
  {
   "cell_type": "markdown",
   "id": "f13282a7",
   "metadata": {},
   "source": [
    "# 6.A box containing 40 white shirts and 60 black shirts. If we choose 10 shirts (without replacement) at random, find the joint PMF of X and Y, where X is the number of white shirts and Y is the number of black shirts.\n"
   ]
  },
  {
   "cell_type": "code",
   "execution_count": null,
   "id": "1285da6a",
   "metadata": {},
   "outputs": [],
   "source": []
  },
  {
   "cell_type": "markdown",
   "id": "2cb6848e",
   "metadata": {},
   "source": [
    "# 7.If A and B are two jointly continuous random variables with joint PDF\n",
    "\n",
    "a. Find fX(a) and fY(b). <br>\n",
    "\n",
    "b. Are A and B independent of each other? <br>\n",
    "\n",
    "c. Find the conditional PDF of A given B = b, fA|B(a|b). <br>\n",
    "\n",
    "d. Find E[A|B = b], for 0 ≤ y ≤ 1. <br>\n",
    "\n",
    "e. Find Var(A|B = b), for 0 ≤ y ≤ 1. <br>"
   ]
  },
  {
   "cell_type": "code",
   "execution_count": null,
   "id": "6af23639",
   "metadata": {},
   "outputs": [],
   "source": []
  },
  {
   "cell_type": "markdown",
   "id": "34914ed2",
   "metadata": {},
   "source": [
    "# 8.There are 100 men on a ship. If Xi is the ith man&#39;s weight on the ship and Xi&#39;s are independent and identically distributed and EXi = μ = 170 and σXi = σ = 30. Find the probability that the men&#39;s total weight on the ship exceeds 18,000.\n"
   ]
  },
  {
   "cell_type": "code",
   "execution_count": null,
   "id": "d3e26e32",
   "metadata": {},
   "outputs": [],
   "source": []
  },
  {
   "cell_type": "markdown",
   "id": "7ebbb3f6",
   "metadata": {},
   "source": [
    "# 9.Let X1, X2, ……, X25 are independent and identically distributed. And have the following PMF If Y = X1 + X2 + … + Xn, estimate P(4 ≤ Y ≤ 6) using central limit theorem."
   ]
  },
  {
   "cell_type": "code",
   "execution_count": null,
   "id": "65b7b910",
   "metadata": {},
   "outputs": [],
   "source": []
  }
 ],
 "metadata": {
  "kernelspec": {
   "display_name": "Python 3 (ipykernel)",
   "language": "python",
   "name": "python3"
  },
  "language_info": {
   "codemirror_mode": {
    "name": "ipython",
    "version": 3
   },
   "file_extension": ".py",
   "mimetype": "text/x-python",
   "name": "python",
   "nbconvert_exporter": "python",
   "pygments_lexer": "ipython3",
   "version": "3.9.7"
  }
 },
 "nbformat": 4,
 "nbformat_minor": 5
}
