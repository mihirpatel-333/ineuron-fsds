{
 "cells": [
  {
   "cell_type": "markdown",
   "id": "7a477509",
   "metadata": {},
   "source": [
    "# 1. What is the definition of a target function? In the sense of a real-life example, express the target function. How is a target function&#39;s fitness assessed?"
   ]
  },
  {
   "cell_type": "markdown",
   "id": "4cb53a71",
   "metadata": {},
   "source": [
    "<b>Ans:</b> A target function, in machine learning, is a method for solving a problem that an AI algorithm parses its training data to find.The target function is essentially the formula that an algorithm feeds data to in order to calculate predictions.\n",
    "\n",
    "Analyzing the massive amounts of data related to its given problem, an AI derives understanding of previously unspecified rules by detecting consistencies in the data. The observations of inherent rules about how the studied subject operates inform the AI on how to process future data that does not include an output by applying this previously unknown function."
   ]
  },
  {
   "cell_type": "markdown",
   "id": "44d69f5f",
   "metadata": {},
   "source": [
    "# 2. What are predictive models, and how do they work? What are descriptive types, and how do you use them? Examples of both types of models should be provided. Distinguish between these two forms of models."
   ]
  },
  {
   "cell_type": "markdown",
   "id": "367a4fb8",
   "metadata": {},
   "source": [
    "<b>Ans: </b>In short, predictive modeling is a statistical technique using machine learning and data mining to predict and forecast likely future outcomes with the aid of historical and existing data.\n",
    "\n",
    "It works by analyzing current and historical data and projecting what it learns on a model generated to forecast likely outcomes.\n",
    "\n",
    "The three main types of descriptive studies are Case studies, Naturalistic observation, and Surveys.\n",
    "\n",
    "Some examples of descriptive research are: A specialty food group launching a new range of barbecue rubs would like to understand what flavors of rubs are favored by different people.\n",
    "\n",
    "Case Studies are a type of observational research that involve a thorough descriptive analysis of a single individual, group, or event. There is no single way to conduct a case study so researchers use a range of methods from unstructured interviewing to direct observation."
   ]
  },
  {
   "cell_type": "markdown",
   "id": "2b8fcd0c",
   "metadata": {},
   "source": [
    "# 3. Describe the method of assessing a classification model&#39;s efficiency in detail. Describe the various measurement parameters."
   ]
  },
  {
   "cell_type": "code",
   "execution_count": null,
   "id": "43e84cb8",
   "metadata": {},
   "outputs": [],
   "source": []
  },
  {
   "cell_type": "markdown",
   "id": "57baf62a",
   "metadata": {},
   "source": [
    "# 4. Describe:\n",
    "i. In the sense of machine learning models, what is underfitting? What is the most common <br>\n",
    "reason for underfitting? <br>\n",
    "ii. What does it mean to overfit? When is it going to happen? <br>\n",
    "iii. In the sense of model fitting, explain the bias-variance trade-off. <br>"
   ]
  },
  {
   "cell_type": "code",
   "execution_count": null,
   "id": "5b35d97d",
   "metadata": {},
   "outputs": [],
   "source": []
  },
  {
   "cell_type": "markdown",
   "id": "1948c0f9",
   "metadata": {},
   "source": [
    "# 5. Is it possible to boost the efficiency of a learning model? If so, please clarify how."
   ]
  },
  {
   "cell_type": "code",
   "execution_count": null,
   "id": "a7aa78a0",
   "metadata": {},
   "outputs": [],
   "source": []
  },
  {
   "cell_type": "markdown",
   "id": "5a9d7b48",
   "metadata": {},
   "source": [
    "# 6. How would you rate an unsupervised learning model&#39;s success? What are the most common success indicators for an unsupervised learning model?"
   ]
  },
  {
   "cell_type": "code",
   "execution_count": null,
   "id": "475a789d",
   "metadata": {},
   "outputs": [],
   "source": []
  },
  {
   "cell_type": "markdown",
   "id": "d28d8ea1",
   "metadata": {},
   "source": [
    "# 7. Is it possible to use a classification model for numerical data or a regression model for categorical data with a classification model? Explain your answer."
   ]
  },
  {
   "cell_type": "code",
   "execution_count": null,
   "id": "e214b32a",
   "metadata": {},
   "outputs": [],
   "source": []
  },
  {
   "cell_type": "markdown",
   "id": "90fc1c17",
   "metadata": {},
   "source": [
    "# 8. Describe the predictive modeling method for numerical values. What distinguishes it from categorical predictive modeling?"
   ]
  },
  {
   "cell_type": "code",
   "execution_count": null,
   "id": "cb7c8455",
   "metadata": {},
   "outputs": [],
   "source": []
  },
  {
   "cell_type": "markdown",
   "id": "21558c47",
   "metadata": {},
   "source": [
    "# 9. The following data were collected when using a classification model to predict the malignancy of a\n",
    "group of patients&#39; tumors: <br>\n",
    "i. Accurate estimates – 15 cancerous, 75 benign <br>\n",
    "ii. Wrong predictions – 3 cancerous, 7 benign <br>\n",
    "Determine the model&#39;s error rate, Kappa value, sensitivity, precision, and F-measure. <br>"
   ]
  },
  {
   "cell_type": "code",
   "execution_count": null,
   "id": "1a7ed083",
   "metadata": {},
   "outputs": [],
   "source": []
  },
  {
   "cell_type": "markdown",
   "id": "c0fd23a4",
   "metadata": {},
   "source": [
    "# 10. Make quick notes on:\n",
    "1. The process of holding out <br>\n",
    "2. Cross-validation by tenfold <br>\n",
    "3. Adjusting the parameters <br>"
   ]
  },
  {
   "cell_type": "code",
   "execution_count": null,
   "id": "910babf1",
   "metadata": {},
   "outputs": [],
   "source": []
  },
  {
   "cell_type": "markdown",
   "id": "b209f195",
   "metadata": {},
   "source": [
    "# 11. Define the following terms:\n",
    "1. Purity vs. Silhouette width <br>\n",
    "2. Boosting vs. Bagging <br>\n",
    "3. The eager learner vs. the lazy learner <br> "
   ]
  },
  {
   "cell_type": "code",
   "execution_count": null,
   "id": "71d855a2",
   "metadata": {},
   "outputs": [],
   "source": []
  }
 ],
 "metadata": {
  "kernelspec": {
   "display_name": "Python 3 (ipykernel)",
   "language": "python",
   "name": "python3"
  },
  "language_info": {
   "codemirror_mode": {
    "name": "ipython",
    "version": 3
   },
   "file_extension": ".py",
   "mimetype": "text/x-python",
   "name": "python",
   "nbconvert_exporter": "python",
   "pygments_lexer": "ipython3",
   "version": "3.9.7"
  }
 },
 "nbformat": 4,
 "nbformat_minor": 5
}
