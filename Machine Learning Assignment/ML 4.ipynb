{
 "cells": [
  {
   "cell_type": "markdown",
   "id": "09d86ddc",
   "metadata": {},
   "source": [
    "# 1. What are the key tasks involved in getting ready to work with machine learning modeling?"
   ]
  },
  {
   "cell_type": "markdown",
   "id": "abdcf937",
   "metadata": {},
   "source": [
    "# 2. What are the different forms of data used in machine learning? Give a specific example for each of them."
   ]
  },
  {
   "cell_type": "markdown",
   "id": "9ba0298e",
   "metadata": {},
   "source": [
    "# 3. Distinguish:\n",
    "\n",
    "1. Numeric vs. categorical attributes <br>\n",
    "\n",
    "2. Feature selection vs. dimensionality reduction <br>"
   ]
  },
  {
   "cell_type": "markdown",
   "id": "bd9383a2",
   "metadata": {},
   "source": [
    "# 4. Make quick notes on any two of the following:\n",
    "\n",
    "1. The histogram <br>\n",
    "\n",
    "2. Use a scatter plot <br>\n",
    "3.PCA (Personal Computer Aid) <br>"
   ]
  },
  {
   "cell_type": "markdown",
   "id": "4dc048da",
   "metadata": {},
   "source": [
    "# 5. Why is it necessary to investigate data? Is there a discrepancy in how qualitative and quantitative data are explored?"
   ]
  },
  {
   "cell_type": "code",
   "execution_count": 5,
   "id": "1c99cba4",
   "metadata": {},
   "outputs": [],
   "source": [
    "# 6. What are the various histogram shapes? What exactly are ‘bins&#39;?"
   ]
  },
  {
   "cell_type": "code",
   "execution_count": 6,
   "id": "df90d02d",
   "metadata": {},
   "outputs": [],
   "source": [
    "# 7. How do we deal with data outliers?"
   ]
  },
  {
   "cell_type": "code",
   "execution_count": 7,
   "id": "b1a538a7",
   "metadata": {},
   "outputs": [],
   "source": [
    "# 8. What are the various central inclination measures? Why does mean vary too much from median in certain data sets?"
   ]
  },
  {
   "cell_type": "code",
   "execution_count": 8,
   "id": "32b7959d",
   "metadata": {},
   "outputs": [],
   "source": [
    "# 9. Describe how a scatter plot can be used to investigate bivariate relationships. Is it possible to find outliers using a scatter plot?"
   ]
  },
  {
   "cell_type": "code",
   "execution_count": null,
   "id": "81cdfe65",
   "metadata": {},
   "outputs": [],
   "source": [
    "# 10. Describe how cross-tabs can be used to figure out how two variables are related."
   ]
  }
 ],
 "metadata": {
  "kernelspec": {
   "display_name": "Python 3 (ipykernel)",
   "language": "python",
   "name": "python3"
  },
  "language_info": {
   "codemirror_mode": {
    "name": "ipython",
    "version": 3
   },
   "file_extension": ".py",
   "mimetype": "text/x-python",
   "name": "python",
   "nbconvert_exporter": "python",
   "pygments_lexer": "ipython3",
   "version": "3.9.7"
  }
 },
 "nbformat": 4,
 "nbformat_minor": 5
}
