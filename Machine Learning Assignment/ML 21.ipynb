{
 "cells": [
  {
   "cell_type": "markdown",
   "id": "e70e5c9d",
   "metadata": {},
   "source": [
    "# 1. What is the estimated depth of a Decision Tree trained (unrestricted) on a one million instance training set?"
   ]
  },
  {
   "cell_type": "markdown",
   "id": "9c916361",
   "metadata": {},
   "source": [
    "# 2. Is the Gini impurity of a node usually lower or higher than that of its parent? Is it always lower/greater, or is it usually lower/greater?"
   ]
  },
  {
   "cell_type": "code",
   "execution_count": 2,
   "id": "299f0fdc",
   "metadata": {},
   "outputs": [],
   "source": [
    "# 3. Explain if its a good idea to reduce max depth if a Decision Tree is overfitting the training set?"
   ]
  },
  {
   "cell_type": "code",
   "execution_count": 3,
   "id": "e8cc0267",
   "metadata": {},
   "outputs": [],
   "source": [
    "# 4. Explain if its a good idea to try scaling the input features if a Decision Tree underfits the training set?"
   ]
  },
  {
   "cell_type": "code",
   "execution_count": 4,
   "id": "dd71b01a",
   "metadata": {},
   "outputs": [],
   "source": [
    "# 5. How much time will it take to train another Decision Tree on a training set of 10 million instances if it takes an hour to train a Decision Tree on a training set with 1 million instances?"
   ]
  },
  {
   "cell_type": "code",
   "execution_count": 5,
   "id": "6abfc8b0",
   "metadata": {},
   "outputs": [],
   "source": [
    "# 6. Will setting presort=True speed up training if your training set has 100,000 instances?"
   ]
  },
  {
   "cell_type": "markdown",
   "id": "ed3563f1",
   "metadata": {},
   "source": [
    "# 7. Follow these steps to train and fine-tune a Decision Tree for the moons dataset:\n",
    "\n",
    "a. To build a moons dataset, use make moons(n samples=10000, noise=0.4). <br>\n",
    "\n",
    "b. Divide the dataset into a training and a test collection with train test split(). <br>\n",
    "\n",
    "c. To find good hyperparameters values for a DecisionTreeClassifier, use grid search with cross-\n",
    "validation (with the GridSearchCV class). Try different values for max leaf nodes. <br>\n",
    "\n",
    "d. Use these hyperparameters to train the model on the entire training set, and then assess its\n",
    "output on the test set. You can achieve an accuracy of 85 to 87 percent. <br>"
   ]
  },
  {
   "cell_type": "markdown",
   "id": "c1c1119f",
   "metadata": {},
   "source": [
    "# 8. Follow these steps to grow a forest:\n",
    "\n",
    "a. Using the same method as before, create 1,000 subsets of the training set, each containing <br>\n",
    "100 instances chosen at random. You can do this with Scikit-ShuffleSplit Learn&#39;s class. <br>\n",
    "\n",
    "b. Using the best hyperparameter values found in the previous exercise, train one Decision <br>\n",
    "Tree on each subset. On the test collection, evaluate these 1,000 Decision Trees. These Decision <br>\n",
    "\n",
    "Trees would likely perform worse than the first Decision Tree, achieving only around 80% accuracy, <br>\n",
    "since they were trained on smaller sets. <br>\n",
    "\n",
    "c. Now the magic begins. Create 1,000 Decision Tree predictions for each test set case, and <br>\n",
    "keep only the most common prediction (you can do this with SciPy&#39;s mode() function). Over the test <br>\n",
    "collection, this method gives you majority-vote predictions. <br>\n",
    "\n",
    "d. On the test range, evaluate these predictions: you should achieve a slightly higher accuracy <br>\n",
    "than the first model (approx 0.5 to 1.5 percent higher). You&#39;ve successfully learned a Random Forest <br>\n",
    "classifier!                                        "
   ]
  },
  {
   "cell_type": "code",
   "execution_count": null,
   "id": "809f7be1",
   "metadata": {},
   "outputs": [],
   "source": []
  }
 ],
 "metadata": {
  "kernelspec": {
   "display_name": "Python 3 (ipykernel)",
   "language": "python",
   "name": "python3"
  },
  "language_info": {
   "codemirror_mode": {
    "name": "ipython",
    "version": 3
   },
   "file_extension": ".py",
   "mimetype": "text/x-python",
   "name": "python",
   "nbconvert_exporter": "python",
   "pygments_lexer": "ipython3",
   "version": "3.9.7"
  }
 },
 "nbformat": 4,
 "nbformat_minor": 5
}
