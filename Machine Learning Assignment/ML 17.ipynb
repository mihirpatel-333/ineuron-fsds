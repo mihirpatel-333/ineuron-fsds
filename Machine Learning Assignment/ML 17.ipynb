{
 "cells": [
  {
   "cell_type": "markdown",
   "id": "1a3de2bf",
   "metadata": {},
   "source": [
    "# 1. Using a graph to illustrate slope and intercept, define basic linear regression."
   ]
  },
  {
   "cell_type": "code",
   "execution_count": 1,
   "id": "c0949d93",
   "metadata": {},
   "outputs": [
    {
     "data": {
      "image/png": "[encoded data removed]",
      "text/plain": [
       "<Figure size 432x288 with 1 Axes>"
      ]
     },
     "metadata": {
      "needs_background": "light"
     },
     "output_type": "display_data"
    },
    {
     "data": {
      "text/plain": [
       "None"
      ]
     },
     "metadata": {},
     "output_type": "display_data"
    }
   ],
   "source": [
    "import matplotlib.pyplot as plt\n",
    "import numpy as np\n",
    "x = np.linspace(-5,5,100)\n",
    "y = 2*x+1\n",
    "plt.plot(x, y, '-r', label='y=2x+1')\n",
    "plt.title('Graph of y=2x+1')\n",
    "plt.xlabel('x', color='#1C2833')\n",
    "plt.ylabel('y', color='#1C2833')\n",
    "plt.legend(loc='upper left')\n",
    "plt.grid()\n",
    "display(plt.show())"
   ]
  },
  {
   "cell_type": "markdown",
   "id": "d49043c4",
   "metadata": {},
   "source": [
    "# 2. In a graph, explain the terms rise, run, and slope."
   ]
  },
  {
   "cell_type": "markdown",
   "id": "295adce1",
   "metadata": {},
   "source": [
    "<b>Ans: </b>The slope of a line measures the steepness of the line. Most of you are probably familiar with associating slope with \"Rise Over Run\". Rise means how many units you move up or down from point to point. On the graph that would be a change in the y values. Run means how far left or right you move from point to point."
   ]
  },
  {
   "cell_type": "markdown",
   "id": "6830d412",
   "metadata": {},
   "source": [
    "# 3. Use a graph to demonstrate slope, linear positive slope, and linear negative slope, as well as the different conditions that contribute to the slope."
   ]
  },
  {
   "cell_type": "markdown",
   "id": "a9a04594",
   "metadata": {},
   "source": [
    "<b>Ans: </b>The steepness of a hill is called a slope. The same goes for the steepness of a line. The slope is defined as the ratio of the vertical change between two points, the rise, to the horizontal change between the same two points, the run.\n",
    "\n",
    "Slope=Rise/Run=ChangeinY/changeinX\n",
    "\n",
    "The slope of a line is usually represented by the letter m. (x1, y1) represents the first point whereas (x2, y2) represents the second point.\n",
    "\n",
    "M=Y2−Y1/X2−X1\n",
    "\n",
    "It is important to keep the x-and y-coordinates in the same order in both the numerator and the denominator otherwise you will get the wrong slope.\n",
    "\n",
    "![](data:image/png;base64,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)"
   ]
  },
  {
   "cell_type": "markdown",
   "id": "551b81ab",
   "metadata": {},
   "source": [
    "# 4. Use a graph to demonstrate curve linear negative slope and curve linear positive slope."
   ]
  },
  {
   "cell_type": "markdown",
   "id": "aaffa1fc",
   "metadata": {},
   "source": [
    "<b>Ans: </b>Image result for a graph to demonstrate curve linear negative slope and curve linear positive slope.If the signs are different then the answer is negative! If the slope is negative you can plot your next point by going down and right OR up and left. f the slope is positive you can plot your next point by going up and right OR down and left."
   ]
  },
  {
   "cell_type": "markdown",
   "id": "cee9b83c",
   "metadata": {},
   "source": [
    "# 5. Use a graph to show the maximum and low points of curves."
   ]
  },
  {
   "cell_type": "markdown",
   "id": "5c492640",
   "metadata": {},
   "source": [
    "<b>Ans: </b>To find the maximum/minimum of a curve you must first differentiate the function and then equate it to zero. This gives you one coordinate. To find the other you must resubstitute the one already found into the original function."
   ]
  },
  {
   "cell_type": "markdown",
   "id": "1104cf42",
   "metadata": {},
   "source": [
    "# 6. Use the formulas for a and b to explain ordinary least squares."
   ]
  },
  {
   "cell_type": "markdown",
   "id": "1d2eff1a",
   "metadata": {},
   "source": [
    "<b>Ans: </b>This best line is the Least Squares Regression Line (abbreviated as LSRL). This is true where ˆy is the predicted y-value given x, a is the y intercept, b and is the slope. For every x-value, the Least Squares Regression Line makes a predicted y-value that is close to the observed y-value, but usually slightly off."
   ]
  },
  {
   "cell_type": "markdown",
   "id": "488243cc",
   "metadata": {},
   "source": [
    "# 7. Provide a step-by-step explanation of the OLS algorithm."
   ]
  },
  {
   "cell_type": "markdown",
   "id": "5b6123bf",
   "metadata": {},
   "source": [
    "<b>Ans:</b> Ordinary Least Square Method :\n",
    "\n",
    "Set a difference between dependent variable and its estimation: <br>\n",
    "Square the difference: <br>\n",
    "Take summation for all data.\n",
    "To get the parameters that make the sum of square difference become minimum, take partial derivative for each parameter and equate it with zero"
   ]
  },
  {
   "cell_type": "markdown",
   "id": "cc778897",
   "metadata": {},
   "source": [
    "# 8. What is the regression&#39;s standard error? To represent the same, make a graph."
   ]
  },
  {
   "attachments": {},
   "cell_type": "markdown",
   "id": "fda88ac3",
   "metadata": {},
   "source": [
    "<b>Ans: </b>The standard error of the regression (S), also known as the standard error of the estimate, represents the average distance that the observed values fall from the regression line. Conveniently, it tells you how wrong the regression model is on average using the units of the response variable."
   ]
  },
  {
   "cell_type": "markdown",
   "id": "8e626335",
   "metadata": {},
   "source": [
    "# 9. Provide an example of multiple linear regression."
   ]
  },
  {
   "cell_type": "markdown",
   "id": "8c2e9238",
   "metadata": {},
   "source": [
    "<b>Ans: </b>Multiple Linear Regression is one of the important regression algorithms which models the linear relationship between a single dependent continuous variable and more than one independent variable. Example: Prediction of CO2 emission based on engine size and number of cylinders in a car."
   ]
  },
  {
   "cell_type": "markdown",
   "id": "515e4258",
   "metadata": {},
   "source": [
    "# 10. Describe the regression analysis assumptions and the BLUE principle."
   ]
  },
  {
   "cell_type": "markdown",
   "id": "123be6cb",
   "metadata": {},
   "source": [
    "<b>Ans:</b> There are four assumptions associated with a linear regression model:\n",
    "\n",
    "* Linearity: The relationship between X and the mean of Y is linear. <br>\n",
    "* Homoscedasticity: The variance of residual is the same for any value of X. <br>\n",
    "* Independence: Observations are independent of each other. <br>\n",
    "* BLUE: is an acronym for the following: Best Linear Unbiased Estimator. In this context, the definition of “best” refers to the   minimum variance or the narrowest sampling distribution."
   ]
  },
  {
   "cell_type": "markdown",
   "id": "1063566b",
   "metadata": {},
   "source": [
    "# 11. Describe two major issues with regression analysis."
   ]
  },
  {
   "cell_type": "markdown",
   "id": "b989efd3",
   "metadata": {},
   "source": [
    "<b>Ans: </b>It involves very lengthy and complicated procedure of calculations and analysis. It cannot be used in case of qualitative phenomenon viz. honesty, crime etc.\n",
    "\n",
    "The overall idea of regression is to examine two things:\n",
    "\n",
    "1. Does a set of predictor variables do a good job in predicting an outcome (dependent) variable?\n",
    "2. Which variables in particular are significant predictors of the outcome variable, and in what way do they–indicated by the magnitude and sign of the beta"
   ]
  },
  {
   "cell_type": "markdown",
   "id": "c691e061",
   "metadata": {},
   "source": [
    "# 12. How can the linear regression model&#39;s accuracy be improved?"
   ]
  },
  {
   "cell_type": "markdown",
   "id": "27f0bac1",
   "metadata": {},
   "source": [
    "<b>Ans: </b>8 Methods to Boost the Accuracy of a Model :\n",
    "\n",
    "Add more data. Having more data is always a good idea. <br>\n",
    "Treat missing and Outlier values.<br>\n",
    "Feature Engineering. <br>\n",
    "Feature Selection. <br>\n",
    "Multiple algorithms. <br>\n",
    "Algorithm Tuning. <br>\n",
    "Ensemble methods."
   ]
  },
  {
   "cell_type": "markdown",
   "id": "3274fd67",
   "metadata": {},
   "source": [
    "# 13. Using an example, describe the polynomial regression model in detail."
   ]
  },
  {
   "cell_type": "markdown",
   "id": "829f80f8",
   "metadata": {},
   "source": [
    "<b>Ans: </b>In statistics, polynomial regression is a form of regression analysis in which the relationship between the independent variable x and the dependent variable y is modelled as an nth degree polynomial in x.For this reason, polynomial regression is considered to be a special case of multiple linear regression.\n",
    "\n",
    "Polynomial regression is one of the machine learning algorithms used for making predictions. For example, it is widely applied to predict the spread rate of COVID-19 and other infectious diseases."
   ]
  },
  {
   "cell_type": "markdown",
   "id": "48803705",
   "metadata": {},
   "source": [
    "# 14. Provide a detailed explanation of logistic regression."
   ]
  },
  {
   "cell_type": "markdown",
   "id": "c065c541",
   "metadata": {},
   "source": [
    "<b>Ans: </b>Logistic regression is a statistical analysis method used to predict a data value based on prior observations of a data set.Based on historical data about earlier outcomes involving the same input criteria, it then scores new cases on their probability of falling into a particular outcome category."
   ]
  },
  {
   "cell_type": "markdown",
   "id": "28f67a0e",
   "metadata": {},
   "source": [
    "# 15. What are the logistic regression assumpions?"
   ]
  },
  {
   "cell_type": "markdown",
   "id": "97a70028",
   "metadata": {},
   "source": [
    "<b>Ans:</b> Basic assumptions that must be met for logistic regression include independence of errors, linearity in the logit for continuous variables, absence of multicollinearity, and lack of strongly influential outliers."
   ]
  },
  {
   "cell_type": "markdown",
   "id": "4f7d3d25",
   "metadata": {},
   "source": [
    "# 16. Go through the details of maximum likelihood estimation."
   ]
  },
  {
   "cell_type": "markdown",
   "id": "085bb0cb",
   "metadata": {},
   "source": [
    "<b>Ans: </b>Maximum likelihood estimation is a method that determines values for the parameters of a model. The parameter values\", are found such that they maximise the likelihood that the process described by the model produced the data that were\", actually observed.\""
   ]
  },
  {
   "cell_type": "code",
   "execution_count": null,
   "id": "27ad237d",
   "metadata": {},
   "outputs": [],
   "source": []
  }
 ],
 "metadata": {
  "kernelspec": {
   "display_name": "Python 3 (ipykernel)",
   "language": "python",
   "name": "python3"
  },
  "language_info": {
   "codemirror_mode": {
    "name": "ipython",
    "version": 3
   },
   "file_extension": ".py",
   "mimetype": "text/x-python",
   "name": "python",
   "nbconvert_exporter": "python",
   "pygments_lexer": "ipython3",
   "version": "3.9.7"
  }
 },
 "nbformat": 4,
 "nbformat_minor": 5
}
