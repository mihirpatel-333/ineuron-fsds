{
 "cells": [
  {
   "cell_type": "markdown",
   "id": "37c794ca",
   "metadata": {},
   "source": [
    "# 1. Provide an example of the concepts of Prior, Posterior, and Likelihood."
   ]
  },
  {
   "cell_type": "code",
   "execution_count": 1,
   "id": "0551a88e",
   "metadata": {},
   "outputs": [],
   "source": [
    "# 2. What role does Bayes&#39; theorem play in the concept learning principle?"
   ]
  },
  {
   "cell_type": "code",
   "execution_count": 2,
   "id": "05287268",
   "metadata": {},
   "outputs": [],
   "source": [
    "# 3. Offer an example of how the Nave Bayes classifier is used in real life."
   ]
  },
  {
   "cell_type": "code",
   "execution_count": 3,
   "id": "cfad2a8d",
   "metadata": {},
   "outputs": [],
   "source": [
    "# 4. Can the Nave Bayes classifier be used on continuous numeric data? If so, how can you go about doing it?"
   ]
  },
  {
   "cell_type": "code",
   "execution_count": 4,
   "id": "ebac1113",
   "metadata": {},
   "outputs": [],
   "source": [
    "# 5. What are Bayesian Belief Networks, and how do they work? What are their applications? Are they capable of resolving a wide range of issues?\n"
   ]
  },
  {
   "cell_type": "code",
   "execution_count": 5,
   "id": "1451f0fa",
   "metadata": {},
   "outputs": [],
   "source": [
    "# 6. Passengers are checked in an airport screening system to see if there is an intruder. Let I be the random variable that indicates whether someone is an intruder I = 1) or not I = 0), and A be the variable that indicates alarm I = 0). If an intruder is detected with probability P(A = 1|I = 1) = 0.98 and a non-intruder is detected with probability P(A = 1|I = 0) = 0.001, an alarm will be triggered, implying the error factor. The likelihood of an intruder in the passenger population is P(I = 1) = 0.00001. What are the chances that an alarm would be triggered when an individual is actually an intruder?"
   ]
  },
  {
   "cell_type": "code",
   "execution_count": 6,
   "id": "6fb61a34",
   "metadata": {},
   "outputs": [],
   "source": [
    "# 7. An antibiotic resistance test (random variable T) has 1% false positives (i.e., 1% of those who are not immune to an antibiotic display a positive result in the test) and 5% false negatives (i.e., 1% of those who are not resistant to an antibiotic show a positive result in the test) (i.e. 5 percent of those actually resistant to an antibiotic test negative). Assume that 2% of those who were screened were antibiotic-resistant. Calculate the likelihood that a person who tests positive is actually immune (random variable D)."
   ]
  },
  {
   "cell_type": "code",
   "execution_count": 7,
   "id": "35f760af",
   "metadata": {},
   "outputs": [
    {
     "ename": "SyntaxError",
     "evalue": "invalid syntax (Temp/ipykernel_15324/415161046.py, line 5)",
     "output_type": "error",
     "traceback": [
      "\u001b[1;36m  File \u001b[1;32m\"C:\\Users\\mik\\AppData\\Local\\Temp/ipykernel_15324/415161046.py\"\u001b[1;36m, line \u001b[1;32m5\u001b[0m\n\u001b[1;33m    2. Given the student&#39;s solution, what is the likelihood that the problem was of form A?\u001b[0m\n\u001b[1;37m       ^\u001b[0m\n\u001b[1;31mSyntaxError\u001b[0m\u001b[1;31m:\u001b[0m invalid syntax\n"
     ]
    }
   ],
   "source": [
    "# 8. In order to prepare for the test, a student knows that there will be one question in the exam that is either form A, B, or C. The chances of getting an A, B, or C on the exam are 30 percent, 20%, and 50 percent, respectively. During the planning, the student solved 9 of 10 type A problems, 2 of 10 type B problems, and 6 of 10 type C problems.\n",
    "\n",
    "1. What is the likelihood that the student can solve the exam problem?\n",
    "\n",
    "2. Given the student&#39;s solution, what is the likelihood that the problem was of form A?"
   ]
  },
  {
   "cell_type": "code",
   "execution_count": 8,
   "id": "4aada949",
   "metadata": {},
   "outputs": [
    {
     "ename": "SyntaxError",
     "evalue": "invalid syntax (Temp/ipykernel_15324/1235853092.py, line 3)",
     "output_type": "error",
     "traceback": [
      "\u001b[1;36m  File \u001b[1;32m\"C:\\Users\\mik\\AppData\\Local\\Temp/ipykernel_15324/1235853092.py\"\u001b[1;36m, line \u001b[1;32m3\u001b[0m\n\u001b[1;33m    1. How many customers come into the bank on a daily basis (10 hours)?\u001b[0m\n\u001b[1;37m       ^\u001b[0m\n\u001b[1;31mSyntaxError\u001b[0m\u001b[1;31m:\u001b[0m invalid syntax\n"
     ]
    }
   ],
   "source": [
    "# 9. A bank installs a CCTV system to track and photograph incoming customers. Despite the constant influx of customers, we divide the timeline into 5 minute bins. There may be a customer coming into the bank with a 5% chance in each 5-minute time period, or there may be no customer (again, for simplicity, we assume that either there is 1 customer or none, not the case of multiple customers). If there is a client, the CCTV will detect them with a 99 percent probability. If there is no customer, the camera can take a false photograph with a 10% chance of detecting movement from other objects.\n",
    "\n",
    "1. How many customers come into the bank on a daily basis (10 hours)?\n",
    "\n",
    "2. On a daily basis, how many fake photographs (photographs taken when there is no customer) and how many missed photographs (photographs taken when there is a customer) are there?\n",
    "\n",
    "3. Explain likelihood that there is a customer if there is a photograph?\n",
    "\n"
   ]
  },
  {
   "cell_type": "code",
   "execution_count": 9,
   "id": "5d31c0a0",
   "metadata": {},
   "outputs": [],
   "source": [
    "# 10. Create the conditional probability table associated with the node Won Toss in the Bayesian Belief network to represent the conditional independence assumptions of the Nave Bayes classifier for the match winning prediction problem in Section 6.4.4. "
   ]
  },
  {
   "cell_type": "code",
   "execution_count": null,
   "id": "76b8035c",
   "metadata": {},
   "outputs": [],
   "source": []
  }
 ],
 "metadata": {
  "kernelspec": {
   "display_name": "Python 3 (ipykernel)",
   "language": "python",
   "name": "python3"
  },
  "language_info": {
   "codemirror_mode": {
    "name": "ipython",
    "version": 3
   },
   "file_extension": ".py",
   "mimetype": "text/x-python",
   "name": "python",
   "nbconvert_exporter": "python",
   "pygments_lexer": "ipython3",
   "version": "3.9.7"
  }
 },
 "nbformat": 4,
 "nbformat_minor": 5
}
