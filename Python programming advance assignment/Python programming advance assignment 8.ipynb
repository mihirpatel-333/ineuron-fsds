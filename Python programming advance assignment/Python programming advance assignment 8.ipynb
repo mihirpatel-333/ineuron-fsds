{
 "cells": [
  {
   "cell_type": "markdown",
   "id": "8cc58b27",
   "metadata": {},
   "source": [
    "# 1. Given a sentence as txt, return True if any two adjacent words have this <br>\n",
    "property: One word ends with a vowel, while the word immediately after  <br>\n",
    "begins with a vowel (a e i o u).  <br>\n",
    "Examples  <br>\n",
    "vowel_links(&quot;a very large appliance&quot;) ➞ True  <br>\n",
    "vowel_links(&quot;go to edabit&quot;) ➞ True  <br>\n",
    "vowel_links(&quot;an open fire&quot;) ➞ False  <br>\n",
    "vowel_links(&quot;a sudden applause&quot;) ➞ False  <br>"
   ]
  },
  {
   "cell_type": "code",
   "execution_count": 1,
   "id": "f59b398e",
   "metadata": {},
   "outputs": [
    {
     "name": "stdout",
     "output_type": "stream",
     "text": [
      "vowel_links(a very large appliance) ➞ True\n",
      "vowel_links(go to edabit) ➞ True\n",
      "vowel_links(an open fire) ➞ False\n",
      "vowel_links(a sudden applause) ➞ False\n"
     ]
    }
   ],
   "source": [
    "def vowel_links(in_string):\n",
    "    in_list = in_string.split(\" \")\n",
    "    vowel_list = ['a','e','i','o','u']\n",
    "    end,start,output = False, False,False\n",
    "    for ele in range(len(in_list)):\n",
    "        temp = True if in_list[ele][-1] in vowel_list else False\n",
    "        start = True if in_list[ele][0] in vowel_list else False\n",
    "        if start == end == True:\n",
    "            output=True\n",
    "            break\n",
    "        end=temp\n",
    "    print(f'vowel_links({in_string}) ➞ {output}')\n",
    "                \n",
    "vowel_links(\"a very large appliance\")\n",
    "vowel_links(\"go to edabit\")\n",
    "vowel_links(\"an open fire\")\n",
    "vowel_links(\"a sudden applause\")"
   ]
  },
  {
   "cell_type": "markdown",
   "id": "15f28b8f",
   "metadata": {},
   "source": [
    "# 2. You are given three inputs: a string, one letter, and a second letter.  <br>\n",
    "Write a function that returns True if every instance of the first letter occurs  <br>\n",
    "before every instance of the second letter.  <br>\n",
    "Examples  <br>\n",
    "first_before_second(&quot;a rabbit jumps joyfully&quot;, &quot;a&quot;, &quot;j&quot;) ➞ True  <br>\n",
    "# Every instance of &quot;a&quot; occurs before every instance of &quot;j&quot;.  <br>\n",
    "first_before_second(&quot;knaves knew about waterfalls&quot;, &quot;k&quot;, &quot;w&quot;) ➞ True  <br>\n",
    "first_before_second(&quot;happy birthday&quot;, &quot;a&quot;, &quot;y&quot;) ➞ False  <br>\n",
    "# The &quot;a&quot; in &quot;birthday&quot; occurs after the &quot;y&quot; in &quot;happy&quot;.  <br>\n",
    "first_before_second(&quot;precarious kangaroos&quot;, &quot;k&quot;, &quot;a&quot;) ➞ False  <br>"
   ]
  },
  {
   "cell_type": "code",
   "execution_count": 2,
   "id": "1d039ab1",
   "metadata": {},
   "outputs": [
    {
     "name": "stdout",
     "output_type": "stream",
     "text": [
      "first_before_second_index(a rabbit jumps joyfully, a, j) ➞ True\n",
      "first_before_second_index(knaves knew about waterfalls, k, w) ➞ True\n",
      "first_before_second_index(happy birthday, a, y) ➞ False\n",
      "first_before_second_index(precarious kangaroos, k, a) ➞ False\n",
      "\n",
      "first_before_second_find(a rabbit jumps joyfully, a, j) ➞ True\n",
      "first_before_second_find(knaves knew about waterfalls, k, w) ➞ True\n",
      "first_before_second_find(happy birthday, a, y) ➞ False\n",
      "first_before_second_find(precarious kangaroos, k, a) ➞ False\n"
     ]
    }
   ],
   "source": [
    "# Approach 1 Using index() and() rindex() functions\n",
    "def first_before_second_index(in_string,in_first,in_second):\n",
    "    last_occur_first = in_string.rindex(in_first)\n",
    "    first_occur_second = in_string.index(in_second)\n",
    "    output = True if last_occur_first < first_occur_second else False\n",
    "    print(f'first_before_second_index({in_string}, {in_first}, {in_second}) ➞ {output}')\n",
    "\n",
    "# Approach 2 Using find() and() rfind() functions\n",
    "def first_before_second_find(in_string,in_first,in_second):\n",
    "    last_occur_first = in_string.rfind(in_first)\n",
    "    first_occur_second = in_string.find(in_second)\n",
    "    output = True if last_occur_first < first_occur_second else False\n",
    "    print(f'first_before_second_find({in_string}, {in_first}, {in_second}) ➞ {output}')\n",
    "\n",
    "first_before_second_index(\"a rabbit jumps joyfully\", \"a\", \"j\")\n",
    "first_before_second_index(\"knaves knew about waterfalls\", \"k\", \"w\")\n",
    "first_before_second_index(\"happy birthday\", \"a\", \"y\")\n",
    "first_before_second_index(\"precarious kangaroos\", \"k\", \"a\")\n",
    "print()\n",
    "first_before_second_find(\"a rabbit jumps joyfully\", \"a\", \"j\")\n",
    "first_before_second_find(\"knaves knew about waterfalls\", \"k\", \"w\")\n",
    "first_before_second_find(\"happy birthday\", \"a\", \"y\")\n",
    "first_before_second_find(\"precarious kangaroos\", \"k\", \"a\")"
   ]
  },
  {
   "cell_type": "markdown",
   "id": "d6715b5f",
   "metadata": {},
   "source": [
    "# 3. Create a function that returns the characters from a list or string r on odd or  <br>\n",
    "even positions, depending on the specifier s. The specifier will be &quot;odd&quot; for  <br>\n",
    "items on odd positions (1, 3, 5, ...) and &quot;even&quot; for items on even positions (2,  <br>\n",
    "4, 6, ...).  <br>\n",
    "Examples  <br>\n",
    "char_at_pos([2, 4, 6, 8, 10], &quot;even&quot;) ➞ [4, 8]  <br>\n",
    "# 4 &amp; 8 occupy the 2nd &amp; 4th positions  <br>\n",
    "char_at_pos(&quot;EDABIT&quot;, &quot;odd&quot;) ➞ &quot;EAI&quot;  <br>\n",
    "# &quot;E&quot;, &quot;A&quot; and &quot;I&quot; occupy the 1st, 3rd and 5th positions  <br>\n",
    "\n",
    "char_at_pos([&quot;A&quot;, &quot;R&quot;, &quot;B&quot;, &quot;I&quot;, &quot;T&quot;, &quot;R&quot;, &quot;A&quot;, &quot;R&quot;, &quot;I&quot;, &quot;L&quot;, &quot;Y&quot;], &quot;odd&quot;) ➞ [&quot;A&quot;,  <br>\n",
    "&quot;B&quot;, &quot;T&quot;, &quot;A&quot;, &quot;I&quot;, &quot;Y&quot;]  <br>"
   ]
  },
  {
   "cell_type": "code",
   "execution_count": 3,
   "id": "ca7b831a",
   "metadata": {},
   "outputs": [
    {
     "name": "stdout",
     "output_type": "stream",
     "text": [
      "char_at_pos([2, 4, 6, 8, 10], 'even') ➞ [4, 8]\n",
      "char_at_pos('EDABIT', 'odd') ➞ ['E', 'A', 'I']\n",
      "char_at_pos(['A', 'R', 'B', 'I', 'T', 'R', 'A', 'R', 'I', 'L', 'Y'], 'odd') ➞ ['A', 'B', 'T', 'A', 'I', 'Y']\n"
     ]
    }
   ],
   "source": [
    "def char_at_pos(in_list,mode):\n",
    "    out_list = []\n",
    "    for ele in range(len(in_list)):\n",
    "        if mode == 'even' and (ele+1)%2 == 0:\n",
    "            out_list.append(in_list[ele])\n",
    "        elif mode == 'odd' and (ele+1)%2 != 0:\n",
    "            out_list.append(in_list[ele])            \n",
    "    print(f'char_at_pos{in_list,mode} ➞ {out_list}')\n",
    "        \n",
    "        \n",
    "char_at_pos([2, 4, 6, 8, 10], \"even\")\n",
    "char_at_pos(\"EDABIT\", \"odd\")\n",
    "char_at_pos([\"A\", \"R\", \"B\", \"I\", \"T\", \"R\", \"A\", \"R\", \"I\", \"L\", \"Y\"], \"odd\")"
   ]
  },
  {
   "cell_type": "markdown",
   "id": "395ddb53",
   "metadata": {},
   "source": [
    "# 4. Write a function that returns the greatest common divisor of all list  <br>\n",
    "elements. If the greatest common divisor is 1, return 1.  <br>\n",
    "Examples  <br>\n",
    "GCD([10, 20, 40]) ➞ 10  <br>\n",
    "GCD([1, 2, 3, 100]) ➞ 1  <br>\n",
    "GCD([1024, 192, 2048, 512]) ➞ 64  <br>"
   ]
  },
  {
   "cell_type": "code",
   "execution_count": 4,
   "id": "1100d15e",
   "metadata": {},
   "outputs": [
    {
     "name": "stdout",
     "output_type": "stream",
     "text": [
      "GCD([10, 20, 40]) ➞ 10\n",
      "GCD([1, 2, 3, 100]) ➞ 1\n",
      "GCD([1024, 192, 2048, 512]) ➞ 64\n"
     ]
    }
   ],
   "source": [
    "def GCD(in_list):\n",
    "    small = min(in_list)\n",
    "    gcd = -1\n",
    "    for i in range(1, small+1):\n",
    "        output = []\n",
    "        for ele in in_list:\n",
    "            output.append(ele%i)\n",
    "        if len(set(output)) == 1 and list(set(output))[0] == 0:\n",
    "            gcd = i\n",
    "    print(f'GCD({in_list}) ➞ {gcd}')\n",
    "    \n",
    "GCD([10, 20, 40])\n",
    "GCD([1, 2, 3, 100])\n",
    "GCD([1024, 192, 2048, 512])"
   ]
  },
  {
   "cell_type": "markdown",
   "id": "c818d285",
   "metadata": {},
   "source": [
    "# 5. A number/string is a palindrome if the digits/characters are the same when  <br>\n",
    "read both forward and backward. Examples include &quot;racecar&quot; and 12321.  <br>\n",
    "Given a positive number n, check if n or the binary representation of n is  <br>\n",
    "palindromic. Return the following:  <br>\n",
    "- &quot;Decimal only.&quot; if only n is a palindrome.  <br>\n",
    "- &quot;Binary only.&quot; if only the binary representation of n is a palindrome.  <br>\n",
    "- &quot;Decimal and binary.&quot; if both are palindromes.  <br>\n",
    "- &quot;Neither!&quot; if neither are palindromes.  <br>\n",
    "Examples  <br>\n",
    "palindrome_type(1306031) ➞ &quot;Decimal only.&quot;  <br>\n",
    "# decimal = 1306031  <br>\n",
    "# binary = &quot;100111110110110101111&quot;  <br>\n",
    "palindrome_type(427787) ➞ &quot;Binary only.&quot;  <br>\n",
    "# decimal = 427787  <br>\n",
    "# binary = &quot;1101000011100001011&quot;  <br>\n",
    "palindrome_type(313) ➞ &quot;Decimal and binary.&quot;  <br>\n",
    "# decimal = 313  <br>\n",
    "# binary = 100111001  <br>\n",
    "palindrome_type(934) ➞ &quot;Neither!&quot;  <br>\n",
    "# decimal = 934  <br>\n",
    "# binary = &quot;1110100110&quot;  <br>"
   ]
  },
  {
   "cell_type": "code",
   "execution_count": 5,
   "id": "152d1035",
   "metadata": {},
   "outputs": [
    {
     "name": "stdout",
     "output_type": "stream",
     "text": [
      "palindrome(1306031) ➞ Decimal only.\n",
      "palindrome(427787) ➞ Neither!\n",
      "palindrome(313) ➞ Decimal and binary.\n",
      "palindrome(934) ➞ Neither!\n"
     ]
    }
   ],
   "source": [
    "def palindrome_type(in_num):\n",
    "    output = None\n",
    "    if str(in_num) == str(in_num)[::-1] and str(bin(in_num)[2:]) == str(bin(in_num)[2:])[::-1]:\n",
    "        output = 'Decimal and binary.'\n",
    "    elif str(in_num) == str(in_num)[::-1] and str(bin(in_num)[2:]) != str(bin(in_num)[2:])[::-1]:\n",
    "        output = 'Decimal only.'\n",
    "    elif str(bin(in_num)[2:]) != str(bin(in_num)[2:])[::-1] and str(in_num) == str(in_num)[::-1]:\n",
    "        output = 'Binary only.'\n",
    "    else:\n",
    "        output = 'Neither!'\n",
    "    print(f'palindrome({in_num}) ➞ {output}')\n",
    "\n",
    "palindrome_type(1306031)\n",
    "palindrome_type(427787)\n",
    "palindrome_type(313)\n",
    "palindrome_type(934)"
   ]
  }
 ],
 "metadata": {
  "kernelspec": {
   "display_name": "Python 3 (ipykernel)",
   "language": "python",
   "name": "python3"
  },
  "language_info": {
   "codemirror_mode": {
    "name": "ipython",
    "version": 3
   },
   "file_extension": ".py",
   "mimetype": "text/x-python",
   "name": "python",
   "nbconvert_exporter": "python",
   "pygments_lexer": "ipython3",
   "version": "3.9.7"
  }
 },
 "nbformat": 4,
 "nbformat_minor": 5
}
