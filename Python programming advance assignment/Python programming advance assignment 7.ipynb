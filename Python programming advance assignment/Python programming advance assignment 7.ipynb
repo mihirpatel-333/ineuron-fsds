{
 "cells": [
  {
   "cell_type": "markdown",
   "id": "a40d89d0",
   "metadata": {},
   "source": [
    "# 1. Write a function that counts how many concentric layers a rug.\n",
    "Examples <br>\n",
    "count_layers([ <br>\n",
    "&quot;AAAA&quot;, <br>\n",
    "&quot;ABBA&quot;, <br>\n",
    "&quot;AAAA&quot; <br>\n",
    "]) ➞ 2 <br>\n",
    "count_layers([ <br>\n",
    "&quot;AAAAAAAAA&quot;, <br>\n",
    "&quot;ABBBBBBBA&quot;, <br>\n",
    "&quot;ABBAAABBA&quot;, <br>\n",
    "&quot;ABBBBBBBA&quot;, <br>\n",
    "&quot;AAAAAAAAA&quot; <br>\n",
    "]) ➞ 3 <br>\n",
    "count_layers([ <br>\n",
    "&quot;AAAAAAAAAAA&quot;, <br>\n",
    "&quot;AABBBBBBBAA&quot;, <br>\n",
    "&quot;AABCCCCCBAA&quot;, <br>\n",
    "&quot;AABCAAACBAA&quot;, <br>\n",
    "&quot;AABCADACBAA&quot;, <br>\n",
    "&quot;AABCAAACBAA&quot;, <br>\n",
    "&quot;AABCCCCCBAA&quot;, <br>\n",
    "&quot;AABBBBBBBAA&quot;, <br>\n",
    "&quot;AAAAAAAAAAA&quot; <br>\n",
    "]) ➞ 5"
   ]
  },
  {
   "cell_type": "code",
   "execution_count": 1,
   "id": "d063756e",
   "metadata": {},
   "outputs": [
    {
     "name": "stdout",
     "output_type": "stream",
     "text": [
      "count_layers(['AAAA', 'ABBA', 'AAAA']) ➞ 2\n",
      "count_layers(['AAAAAAAAA', 'ABBBBBBBA', 'ABBAAABBA', 'ABBBBBBBA', 'AAAAAAAAA']) ➞ 3\n",
      "count_layers(['AAAAAAAAAAA', 'AABBBBBBBAA', 'AABCCCCCBAA', 'AABCAAACBAA', 'AABCADACBAA', 'AABCAAACBAA', 'AABCCCCCBAA', 'AABBBBBBBAA', 'AAAAAAAAAAA']) ➞ 5\n"
     ]
    }
   ],
   "source": [
    "def count_layers(in_list):\n",
    "    out_list = []\n",
    "    for ele in in_list:\n",
    "        if ele not in out_list:\n",
    "            out_list.append(ele)\n",
    "    print(f'count_layers({in_list}) ➞ {len(out_list)}')\n",
    "\n",
    "count_layers([\"AAAA\",\"ABBA\",\"AAAA\"])\n",
    "count_layers([\"AAAAAAAAA\",\"ABBBBBBBA\",\"ABBAAABBA\",\"ABBBBBBBA\",\"AAAAAAAAA\"])\n",
    "count_layers([\"AAAAAAAAAAA\",\"AABBBBBBBAA\",\"AABCCCCCBAA\",\"AABCAAACBAA\",\"AABCADACBAA\",\"AABCAAACBAA\",\"AABCCCCCBAA\",\"AABBBBBBBAA\",\"AAAAAAAAAAA\"])"
   ]
  },
  {
   "cell_type": "markdown",
   "id": "edf56803",
   "metadata": {},
   "source": [
    "# 2. There are many different styles of music and many albums exhibit multiple\n",
    "styles. Create a function that takes a list of musical styles from albums and <br>\n",
    "returns how many styles are unique. <br>\n",
    "Examples <br>\n",
    "unique_styles([ <br>\n",
    "&quot;Dub,Dancehall&quot;, <br>\n",
    "&quot;Industrial,Heavy Metal&quot;, <br>\n",
    "&quot;Techno,Dubstep&quot;, <br>\n",
    "&quot;Synth-pop,Euro-Disco&quot;, <br>\n",
    "&quot;Industrial,Techno,Minimal&quot; <br>\n",
    "]) ➞ 9 <br>\n",
    "unique_styles([ <br>\n",
    "\n",
    "&quot;Soul&quot;, <br>\n",
    "&quot;House,Folk&quot;, <br>\n",
    "&quot;Trance,Downtempo,Big Beat,House&quot;, <br>\n",
    "&quot;Deep House&quot;, <br>\n",
    "&quot;Soul&quot; <br>\n",
    "]) ➞ 7 <br>"
   ]
  },
  {
   "cell_type": "code",
   "execution_count": 2,
   "id": "d5179ee2",
   "metadata": {},
   "outputs": [
    {
     "name": "stdout",
     "output_type": "stream",
     "text": [
      "unique_styles(['Dub,Dancehall', 'Industrial,Heavy Metal', 'Techno,Dubstep', 'Synth-pop,Euro-Disco', 'Industrial,Techno,Minimal']) ➞ 9\n",
      "unique_styles(['Soul', 'House,Folk', 'Trance,Downtempo,Big Beat,House', 'Deep House', 'Soul']) ➞ 7\n"
     ]
    }
   ],
   "source": [
    "def unique_styles(in_list):\n",
    "    out_list = []\n",
    "    for ele in in_list:\n",
    "        for sub_ele in ele.split(','):\n",
    "            out_list.append(sub_ele)\n",
    "    print(f'unique_styles({in_list}) ➞ {len(set(out_list))}')\n",
    "                \n",
    "unique_styles([\"Dub,Dancehall\",\"Industrial,Heavy Metal\",\"Techno,Dubstep\",\"Synth-pop,Euro-Disco\",\"Industrial,Techno,Minimal\"]) \n",
    "unique_styles([\"Soul\",\"House,Folk\",\"Trance,Downtempo,Big Beat,House\",\"Deep House\",\"Soul\"])"
   ]
  },
  {
   "cell_type": "markdown",
   "id": "ca5bdd28",
   "metadata": {},
   "source": [
    "# 3. Create a function that finds a target number in a list of prime numbers.\n",
    "Implement a binary search algorithm in your function. The target number will <br>\n",
    "be from 2 through 97. If the target is prime then return &quot;yes&quot; else return &quot;no&quot;. <br>\n",
    "Examples <br>\n",
    "primes = [2, 3, 5, 7, 11, 13, 17, 19, 23, 29, 31, 37, 41, 43, 47, 53, 59, 61, 67,\n",
    "71, 73, 79, 83, 89, 97] <br>\n",
    "\n",
    "is_prime(primes, 3) ➞ &quot;yes&quot; <br>\n",
    "is_prime(primes, 4) ➞ &quot;no&quot; <br>\n",
    "is_prime(primes, 67) ➞ &quot;yes&quot; <br>\n",
    "is_prime(primes, 36) ➞ &quot;no&quot;"
   ]
  },
  {
   "cell_type": "code",
   "execution_count": 3,
   "id": "d94e15f0",
   "metadata": {},
   "outputs": [
    {
     "name": "stdout",
     "output_type": "stream",
     "text": [
      "is_prime(3) ➞ Yes\n",
      "is_prime(4) ➞ No\n",
      "is_prime(67) ➞ Yes\n",
      "is_prime(36) ➞ No\n"
     ]
    }
   ],
   "source": [
    "primes = [2, 3, 5, 7, 11, 13, 17, 19, 23, 29, 31, 37, 41, 43, 47, 53, 59, 61, 67, 71, 73, 79, 83, 89, 97]\n",
    "\n",
    "def is_prime(in_list,in_num):\n",
    "    output = 'No'\n",
    "    start_point = 0\n",
    "    end_point = len(in_list) - 1\n",
    "    mid_point = 0\n",
    "    while start_point <= end_point:\n",
    "        mid_point = (end_point+start_point)//2\n",
    "        if in_list[mid_point] < in_num:\n",
    "            start_point = mid_point + 1\n",
    "        elif in_list[mid_point] > in_num:\n",
    "            end_point = mid_point - 1\n",
    "        else:\n",
    "            output = 'Yes'\n",
    "            break\n",
    "    print(f'is_prime({in_num}) ➞ {output}')\n",
    "\n",
    "is_prime(primes, 3)\n",
    "is_prime(primes, 4)\n",
    "is_prime(primes, 67)\n",
    "is_prime(primes, 36)"
   ]
  },
  {
   "cell_type": "markdown",
   "id": "00c6594e",
   "metadata": {},
   "source": [
    "# 4. Create a function that takes in n, a, b and returns the number of positive\n",
    "values raised to the nth power that lie in the range [a, b], inclusive. <br>\n",
    "Examples <br>\n",
    "power_ranger(2, 49, 65) ➞ 2 <br>\n",
    "# 2 squares (n^2) lie between 49 and 65, 49 (7^2) and 64 (8^2) <br>\n",
    "power_ranger(3, 1, 27) ➞ 3 <br>\n",
    "# 3 cubes (n^3) lie between 1 and 27, 1 (1^3), 8 (2^3) and 27 (3^3) <br>\n",
    "power_ranger(10, 1, 5) ➞ 1 <br>\n",
    "# 1 value raised to the 10th power lies between 1 and 5, 1 (1^10) <br>\n",
    "power_ranger(5, 31, 33) ➞ 1 <br>\n",
    "power_ranger(4, 250, 1300) ➞ 3<br>"
   ]
  },
  {
   "cell_type": "code",
   "execution_count": 4,
   "id": "a1902d80",
   "metadata": {},
   "outputs": [
    {
     "name": "stdout",
     "output_type": "stream",
     "text": [
      "power_ranger(2, 49, 65) ➞ 2\n",
      "power_ranger(3, 1, 27) ➞ 3\n",
      "power_ranger(10, 1, 5) ➞ 1\n",
      "power_ranger(5, 31, 33) ➞ 1\n",
      "power_ranger(4, 250, 1300) ➞ 3\n"
     ]
    }
   ],
   "source": [
    "import math\n",
    "def power_ranger(in_base,in_min,in_max):\n",
    "    output = []\n",
    "    for ele in range(in_min,in_max+1):\n",
    "        root = round(math.exp(math.log(ele)/in_base),1)\n",
    "        if str(root).split(\".\")[1] == '0':\n",
    "            output.append(int(root))\n",
    "    print(f'power_ranger{in_base,in_min,in_max} ➞ {len(set(output))}')\n",
    "\n",
    "power_ranger(2, 49, 65)\n",
    "power_ranger(3, 1, 27)\n",
    "power_ranger(10, 1, 5)\n",
    "power_ranger(5, 31, 33)\n",
    "power_ranger(4, 250, 1300)"
   ]
  },
  {
   "cell_type": "markdown",
   "id": "73bf5e7d",
   "metadata": {},
   "source": [
    "# 5. Given a number, return the difference between the maximum and minimum\n",
    "numbers that can be formed when the digits are rearranged. <br>\n",
    "Examples <br>\n",
    "rearranged_difference(972882) ➞ 760833 <br>\n",
    "# 988722 - 227889 = 760833 <br>\n",
    "rearranged_difference(3320707) ➞ 7709823 <br>\n",
    "# 7733200 - 23377 = 7709823 <br>\n",
    "rearranged_difference(90010) ➞ 90981 <br>\n",
    "# 91000 - 19 = 90981 "
   ]
  },
  {
   "cell_type": "code",
   "execution_count": 5,
   "id": "6f3d22c9",
   "metadata": {},
   "outputs": [
    {
     "name": "stdout",
     "output_type": "stream",
     "text": [
      "rearranged_difference(972882) ➞ 988722 - 227889 ➞ 760833\n",
      "rearranged_difference(3320707) ➞ 7733200 - 23377 ➞ 7709823\n",
      "rearranged_difference(90010) ➞ 91000 - 19 ➞ 90981\n"
     ]
    }
   ],
   "source": [
    "def rearranged_difference(in_num):\n",
    "    split_num = []\n",
    "    for ele in str(in_num):\n",
    "        split_num.append(ele)\n",
    "    min_num = int(''.join(sorted(split_num))) \n",
    "    max_num = int(''.join(sorted(split_num, reverse=True)))\n",
    "    print(f'rearranged_difference({in_num}) ➞ {max_num} - {min_num} ➞ {max_num-min_num}')\n",
    "    \n",
    "rearranged_difference(972882)    \n",
    "rearranged_difference(3320707)\n",
    "rearranged_difference(90010)"
   ]
  }
 ],
 "metadata": {
  "kernelspec": {
   "display_name": "Python 3 (ipykernel)",
   "language": "python",
   "name": "python3"
  },
  "language_info": {
   "codemirror_mode": {
    "name": "ipython",
    "version": 3
   },
   "file_extension": ".py",
   "mimetype": "text/x-python",
   "name": "python",
   "nbconvert_exporter": "python",
   "pygments_lexer": "ipython3",
   "version": "3.9.7"
  }
 },
 "nbformat": 4,
 "nbformat_minor": 5
}
