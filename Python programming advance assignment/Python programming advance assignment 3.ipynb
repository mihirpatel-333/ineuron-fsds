{
 "cells": [
  {
   "cell_type": "markdown",
   "id": "52f37c11",
   "metadata": {},
   "source": [
    "# 1. Create a function to perform basic arithmetic operations that includes\n",
    "addition, subtraction, multiplication and division on a string number (e.g. &quot;12 + <br>\n",
    "24&quot; or &quot;23 - 21&quot; or &quot;12 // 12&quot; or &quot;12 * 21&quot;). <br>\n",
    "Here, we have 1 followed by a space, operator followed by another space <br>\n",
    "and 2. For the challenge, we are going to have only two numbers between 1 <br>\n",
    "valid operator. The return value should be a number. <br>\n",
    "eval() is not allowed. In case of division, whenever the second number equals <br>\n",
    "&quot;0&quot; return -1. <br>\n",
    "For example: <br>\n",
    "&quot;15 // 0&quot; ➞ -1 <br>\n",
    "Examples <br>\n",
    "arithmetic_operation(&quot;12 + 12&quot;) ➞ 24 // 12 + 12 = 24 <br>\n",
    "arithmetic_operation(&quot;12 - 12&quot;) ➞ 24 // 12 - 12 = 0 <br>\n",
    "arithmetic_operation(&quot;12 * 12&quot;) ➞ 144 // 12 * 12 = 144 <br>\n",
    "arithmetic_operation(&quot;12 // 0&quot;) ➞ -1 // 12 / 0 = -1 <br>"
   ]
  },
  {
   "cell_type": "code",
   "execution_count": 1,
   "id": "ca5c46c0",
   "metadata": {},
   "outputs": [
    {
     "name": "stdout",
     "output_type": "stream",
     "text": [
      "arithmetic_operation(12 + 12) ➞ 24\n",
      "arithmetic_operation(12 - 12) ➞ 0\n",
      "arithmetic_operation(12 * 12) ➞ 144\n",
      "arithmetic_operation(12 // 0) ➞ -1\n"
     ]
    }
   ],
   "source": [
    "import operator\n",
    "\n",
    "ops = {'+':operator.add,'-':operator.sub,'*':operator.mul,'//':operator.floordiv}\n",
    "\n",
    "def arithmetic_operation(in_string):\n",
    "    in_list = in_string.split(\" \")\n",
    "    output = ops[in_list[1]](int(in_list[0]),int(in_list[2])) if int(in_list[2]) != 0 else -1\n",
    "    print(f'arithmetic_operation({in_list[0]} {in_list[1]} {in_list[2]}) ➞ {output}')\n",
    "    \n",
    "arithmetic_operation(\"12 + 12\")\n",
    "arithmetic_operation(\"12 - 12\")\n",
    "arithmetic_operation(\"12 * 12\")\n",
    "arithmetic_operation(\"12 // 0\")"
   ]
  },
  {
   "cell_type": "markdown",
   "id": "00ad33db",
   "metadata": {},
   "source": [
    "# 2. Write a function that takes the coordinates of three points in the form of a\n",
    "2d array and returns the perimeter of the triangle. The given points are the <br>\n",
    "vertices of a triangle on a two-dimensional plane. <br>\n",
    "Examples <br>\n",
    "perimeter( [ [15, 7], [5, 22], [11, 1] ] ) ➞ 47.08 <br>\n",
    "perimeter( [ [0, 0], [0, 1], [1, 0] ] ) ➞ 3.42 <br>\n",
    "perimeter( [ [-10, -10], [10, 10 ], [-10, 10] ] ) ➞ 68.28 <br>"
   ]
  },
  {
   "cell_type": "code",
   "execution_count": 2,
   "id": "96a87977",
   "metadata": {},
   "outputs": [
    {
     "name": "stdout",
     "output_type": "stream",
     "text": [
      "perimeter([[15, 7], [5, 22], [11, 1]]) ➞ 47.08\n",
      "perimeter([[0, 0], [0, 1], [1, 0]]) ➞ 3.41\n",
      "perimeter([[-10, -10], [10, 10], [-10, 10]]) ➞ 68.28\n"
     ]
    }
   ],
   "source": [
    "import math\n",
    "\n",
    "def distance(a,b):\n",
    "    return math.sqrt(pow((b[1]-a[1]),2)+pow((b[0]-a[0]),2))\n",
    "\n",
    "def perimeter(in_array):\n",
    "    perimeter = []\n",
    "    for ele in range(len(in_array)):\n",
    "        if ele == len(in_array)-1:\n",
    "            perimeter.append(distance(in_array[ele],in_array[0]))\n",
    "        else:\n",
    "            perimeter.append(distance(in_array[ele],in_array[ele+1]))\n",
    "    print(f'perimeter({in_array}) ➞ {sum(perimeter):.2f}')\n",
    "    \n",
    "perimeter([[15,7],[5,22],[11,1]])\n",
    "perimeter([[0,0],[0,1],[1,0]])\n",
    "perimeter([[-10,-10],[10,10],[-10,10]])"
   ]
  },
  {
   "cell_type": "markdown",
   "id": "5d48d458",
   "metadata": {},
   "source": [
    "# 3. A city skyline can be represented as a 2-D list with 1s representing\n",
    "buildings. In the example below, the height of the tallest building is 4 (second- <br>\n",
    "most right column). <br>\n",
    "[[0, 0, 0, 0, 0, 0], <br>\n",
    "[0, 0, 0, 0, 1, 0], <br>\n",
    "[0, 0, 1, 0, 1, 0], <br>\n",
    "[0, 1, 1, 1, 1, 0], <br>\n",
    "\n",
    "[1, 1, 1, 1, 1, 1]]\n",
    "Create a function that takes a skyline (2-D list of 0&#39;s and 1&#39;s) and returns the <br>\n",
    "height of the tallest skyscraper. <br>\n",
    "Examples <br>\n",
    "tallest_skyscraper([ <br>\n",
    "[0, 0, 0, 0], <br>\n",
    "[0, 1, 0, 0], <br>\n",
    "[0, 1, 1, 0], <br>\n",
    "[1, 1, 1, 1] <br>\n",
    "]) ➞ 3 <br>\n",
    "tallest_skyscraper([ <br>\n",
    "[0, 1, 0, 0], <br>\n",
    "[0, 1, 0, 0], <br>\n",
    "[0, 1, 1, 0], <br>\n",
    "[1, 1, 1, 1] <br>\n",
    "]) ➞ 4 <br>\n",
    "tallest_skyscraper([ <br>\n",
    "[0, 0, 0, 0], <br>\n",
    "[0, 0, 0, 0], <br>\n",
    "[1, 1, 1, 0], <br>\n",
    "[1, 1, 1, 1] <br>\n",
    "]) ➞ 2 <br>"
   ]
  },
  {
   "cell_type": "code",
   "execution_count": 3,
   "id": "d75741c2",
   "metadata": {},
   "outputs": [],
   "source": [
    "def tallest_skyscraper(in_list):\n",
    "    out_list = []\n",
    "    for num in range(len(in_list)):\n",
    "        count = 0\n",
    "        for ele in range(len(in_list[num])):\n",
    "            count += in_list[ele][num]\n",
    "        out_list.append(count)\n",
    "    print(f'tallest_skyscraper({in_list}) ➞ {max(out_list)}')"
   ]
  },
  {
   "cell_type": "markdown",
   "id": "a541a45e",
   "metadata": {},
   "source": [
    "# 4. A financial institution provides professional services to banks and claims\n",
    "charges from the customers based on the number of man-days provided.<br>\n",
    "Internally, it has set a scheme to motivate and reward staff to meet and <br>\n",
    "exceed targeted billable utilization and revenues by paying a bonus for each <br>\n",
    "day claimed from customers in excess of a threshold target. <br>\n",
    "This quarterly scheme is calculated with a threshold target of 32 days per <br>\n",
    "quarter, and the incentive payment for each billable day in excess of such <br>\n",
    "threshold target is shown as follows: <br>\n",
    "Days Bonus <br>\n",
    "0 to 32 days Zero <br>\n",
    "33 to 40 days SGD$325 per billable day \n",
    "41 to 48 days SGD$550 per billable day <br>\n",
    "Greater than 48 days SGD$600 per billable day <br>\n",
    "\n",
    "Please note that incentive payment is calculated progressively. As an <br>\n",
    "example, if an employee reached total billable days of 45 in a quarter, his/her <br>\n",
    "incentive payment is computed as follows: <br>\n",
    "32*0 + 8*325 + 5*550 = 5350 <br>\n",
    "Write a function to read the billable days of an employee and return the bonus <br>\n",
    "he/she has obtained in that quarter. <br>\n",
    "Examples <br>\n",
    "bonus(15) ➞ 0 <br>\n",
    "bonus(37) ➞ 1625 <br>\n",
    "bonus(50) ➞ 8200 <br>"
   ]
  },
  {
   "cell_type": "code",
   "execution_count": 4,
   "id": "a01e2785",
   "metadata": {},
   "outputs": [
    {
     "name": "stdout",
     "output_type": "stream",
     "text": [
      "bonus(15) ➞ 0\n",
      "bonus(44) ➞ 4800\n",
      "bonus(37) ➞ 1625\n",
      "bonus(50) ➞ 8200\n",
      "bonus(60) ➞ 14200\n"
     ]
    }
   ],
   "source": [
    "def bonus(int_num):\n",
    "    if int_num > 48:\n",
    "        output = 0+(8*325)+(8*550)+((int_num-48)*600)\n",
    "    elif int_num < 48 and int_num >= 41:\n",
    "        output = 0+(8*325)+((int_num-41+1)*550)\n",
    "    elif int_num >33 and int_num <= 40:\n",
    "        output = 0+((int_num-33+1)*325)\n",
    "    else:\n",
    "        output = 0\n",
    "    print(f'bonus({int_num}) ➞ {output}')\n",
    "        \n",
    "bonus(15)\n",
    "bonus(44)\n",
    "bonus(37)\n",
    "bonus(50)\n",
    "bonus(60)"
   ]
  },
  {
   "cell_type": "markdown",
   "id": "a04cdc64",
   "metadata": {},
   "source": [
    "# 5. A number is said to be Disarium if the sum of its digits raised to their\n",
    "respective positions is the number itself. <br>\n",
    "Create a function that determines whether a number is a Disarium or not. <br>\n",
    "Examples <br>\n",
    "is_disarium(75) ➞ False <br>\n",
    "# 7^1 + 5^2 = 7 + 25 = 32 <br>\n",
    "is_disarium(135) ➞ True <br>\n",
    "# 1^1 + 3^2 + 5^3 = 1 + 9 + 125 = 135 <br>\n",
    "is_disarium(544) ➞ False <br>\n",
    "is_disarium(518) ➞ True <br>\n",
    "is_disarium(466) ➞ False <br>\n",
    "is_disarium(8) ➞ True "
   ]
  },
  {
   "cell_type": "code",
   "execution_count": 5,
   "id": "08b9d838",
   "metadata": {
    "scrolled": true
   },
   "outputs": [
    {
     "name": "stdout",
     "output_type": "stream",
     "text": [
      "is_disarium(75) ➞ False\n",
      "is_disarium(135) ➞ True\n",
      "is_disarium(544) ➞ False\n",
      "is_disarium(518) ➞ True\n",
      "is_disarium(466) ➞ False\n",
      "is_disarium(8) ➞ True\n"
     ]
    }
   ],
   "source": [
    "def is_disarium(in_num):\n",
    "    sum = 0\n",
    "    output = False\n",
    "    for ele in range(len(str(in_num))):\n",
    "        sum += int(str(in_num)[ele])**(ele+1)\n",
    "    if in_num == sum:\n",
    "        output=True\n",
    "    print(f'is_disarium({in_num}) ➞ {output}')\n",
    "    \n",
    "is_disarium(75)\n",
    "is_disarium(135)\n",
    "is_disarium(544)\n",
    "is_disarium(518)\n",
    "is_disarium(466)\n",
    "is_disarium(8)"
   ]
  }
 ],
 "metadata": {
  "kernelspec": {
   "display_name": "Python 3 (ipykernel)",
   "language": "python",
   "name": "python3"
  },
  "language_info": {
   "codemirror_mode": {
    "name": "ipython",
    "version": 3
   },
   "file_extension": ".py",
   "mimetype": "text/x-python",
   "name": "python",
   "nbconvert_exporter": "python",
   "pygments_lexer": "ipython3",
   "version": "3.9.7"
  }
 },
 "nbformat": 4,
 "nbformat_minor": 5
}
