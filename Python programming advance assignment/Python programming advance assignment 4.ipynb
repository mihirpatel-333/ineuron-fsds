{
 "cells": [
  {
   "cell_type": "markdown",
   "id": "fb3565a5",
   "metadata": {},
   "source": [
    "# 1. In mathematics, the Fibonacci numbers, commonly denoted Fn, form a \n",
    "sequence, called the Fibonacci sequence, such that each number is the sum <br>\n",
    "of the two preceding ones, starting from 0 and 1: <br>\n",
    "\n",
    "The beginning of the sequence is this: <br>\n",
    "0, 1, 1, 2, 3, 5, 8, 13, 21, 34, 55, 89, 144, ... <br>\n",
    "The function fastFib(num) returns the fibonacci number Fn, of the given num <br>\n",
    "as an argument. <br>\n",
    "Examples <br>\n",
    "fib_fast(5) ➞ 5 <br>\n",
    "fib_fast(10) ➞ 55 <br>\n",
    "fib_fast(20) ➞ 6765 <br>\n",
    "fib_fast(50) ➞ 12586269025 <br>"
   ]
  },
  {
   "cell_type": "code",
   "execution_count": 2,
   "id": "95380a1c",
   "metadata": {},
   "outputs": [
    {
     "name": "stdout",
     "output_type": "stream",
     "text": [
      "fib_fast_one(5) ➞ 5\n",
      "fib_fast_one(10) ➞ 55\n",
      "fib_fast_one(20) ➞ 6765\n",
      "fib_fast_one(50) ➞ 12586269025\n",
      "\n",
      "fib_fast_two(5) ➞ 5\n",
      "fib_fast_two(10) ➞ 55\n",
      "fib_fast_two(20) ➞ 6765\n",
      "fib_fast_two(50) ➞ 12586269025\n"
     ]
    }
   ],
   "source": [
    "# Approach 1\n",
    "def fib_fast_one(in_num):\n",
    "    temp_list = []\n",
    "    for ele in range(in_num+1):\n",
    "        if ele in [0,1]:\n",
    "            temp_list.append(ele)\n",
    "        else:\n",
    "            temp_list.append(temp_list[-1]+temp_list[-2])\n",
    "    print(f'fib_fast_one({in_num}) ➞ {temp_list[-1]}')\n",
    "    \n",
    "# Approach 2 -> Memory Efficient\n",
    "def fib_fast_two(in_num):\n",
    "    back_two,back_one,output = 0,1,0\n",
    "    for ele in range(in_num+1):\n",
    "        if ele > 1:\n",
    "            output = back_two+back_one\n",
    "            back_two = back_one\n",
    "            back_one = output\n",
    "    print(f'fib_fast_two({in_num}) ➞ {output}')\n",
    "\n",
    "fib_fast_one(5)\n",
    "fib_fast_one(10)\n",
    "fib_fast_one(20)\n",
    "fib_fast_one(50)    \n",
    "print() \n",
    "fib_fast_two(5)\n",
    "fib_fast_two(10)\n",
    "fib_fast_two(20)\n",
    "fib_fast_two(50)"
   ]
  },
  {
   "cell_type": "markdown",
   "id": "e596a023",
   "metadata": {},
   "source": [
    "# 2. Create a function that takes a strings characters as ASCII and returns each\n",
    "characters hexadecimal value as a string. <br>\n",
    "Examples <br>\n",
    "convert_to_hex(&quot;hello world&quot;) ➞ &quot;68 65 6c 6c 6f 20 77 6f 72 6c 64&quot; <br>\n",
    "convert_to_hex(&quot;Big Boi&quot;) ➞ &quot;42 69 67 20 42 6f 69&quot; <br>\n",
    "convert_to_hex(&quot;Marty Poppinson&quot;) ➞ &quot;4d 61 72 74 79 20 50 6f 70 70 69 6e <br>\n",
    "73 6f 6e&quot;"
   ]
  },
  {
   "cell_type": "code",
   "execution_count": 3,
   "id": "75b9b297",
   "metadata": {},
   "outputs": [
    {
     "name": "stdout",
     "output_type": "stream",
     "text": [
      "convert_to_hex(hello world) ➞ 68 65 6c 6c 6f 20 77 6f 72 6c 64\n",
      "convert_to_hex(Big Boi) ➞ 42 69 67 20 42 6f 69\n",
      "convert_to_hex(Marty Poppinson) ➞ 4d 61 72 74 79 20 50 6f 70 70 69 6e 73 6f 6e\n"
     ]
    }
   ],
   "source": [
    "def convert_to_hex(in_string):\n",
    "    out_string = []\n",
    "    for ele in in_string:\n",
    "        out_string.append(hex(ord(ele))[2:])\n",
    "    print(f'convert_to_hex({in_string}) ➞ {\" \".join(out_string)}')\n",
    "\n",
    "convert_to_hex(\"hello world\")\n",
    "convert_to_hex(\"Big Boi\")\n",
    "convert_to_hex(\"Marty Poppinson\")"
   ]
  },
  {
   "cell_type": "markdown",
   "id": "8dd9a597",
   "metadata": {},
   "source": [
    "# 3. Someone has attempted to censor my strings by replacing every vowel\n",
    "with a *, l*k* th*s. Luckily, I&#39;ve been able to find the vowels that were <br>\n",
    "removed. <br>\n",
    "Given a censored string and a string of the censored vowels, return the <br>\n",
    "original uncensored string. <br>\n",
    "Example <br>\n",
    "uncensor(&quot;Wh*r* d*d my v*w*ls g*?&quot;, &quot;eeioeo&quot;) ➞ &quot;Where did my vowels go?&quot; <br>\n",
    "uncensor(&quot;abcd&quot;, &quot;&quot;) ➞ &quot;abcd&quot; <br>\n",
    "uncensor(&quot;*PP*RC*S*&quot;, &quot;UEAE&quot;) ➞ &quot;UPPERCASE&quot;"
   ]
  },
  {
   "cell_type": "code",
   "execution_count": 4,
   "id": "2c9e0a2a",
   "metadata": {},
   "outputs": [
    {
     "name": "stdout",
     "output_type": "stream",
     "text": [
      "uncensor('Wh*r* d*d my v*w*ls g*?', 'eeioeo') ➞ Where did my vowels go?\n",
      "uncensor('abcd', '') ➞ abcd\n",
      "uncensor('*PP*RC*S*', 'UEAE') ➞ UPPERCASE\n"
     ]
    }
   ],
   "source": [
    "def uncensor(in_string,in_vowels):\n",
    "    window = 0\n",
    "    out_string = ''\n",
    "    for ele in in_string:\n",
    "        if ele == '*':\n",
    "            out_string += in_vowels[window]\n",
    "            window +=1\n",
    "        else:\n",
    "            out_string += ele\n",
    "    print(f'uncensor{in_string,in_vowels} ➞ {out_string}')\n",
    "\n",
    "uncensor(\"Wh*r* d*d my v*w*ls g*?\", \"eeioeo\")\n",
    "uncensor(\"abcd\", \"\")\n",
    "uncensor(\"*PP*RC*S*\", \"UEAE\") "
   ]
  },
  {
   "cell_type": "markdown",
   "id": "a0da41fd",
   "metadata": {},
   "source": [
    "# 4. Write a function that takes an IP address and returns the domain name\n",
    "using PTR DNS records. <br>\n",
    "Example <br>\n",
    "get_domain(&quot;8.8.8.8&quot;) ➞ &quot;dns.google&quot; <br>\n",
    "get_domain(&quot;8.8.4.4&quot;) ➞ &quot;dns.google&quot;"
   ]
  },
  {
   "cell_type": "code",
   "execution_count": 5,
   "id": "953ed070",
   "metadata": {},
   "outputs": [
    {
     "name": "stdout",
     "output_type": "stream",
     "text": [
      "get_domain(8.8.8.8) ➞ ('dns.google', [], ['8.8.8.8']) ➞ dns.google\n",
      "get_domain(8.8.4.4) ➞ ('dns.google', [], ['8.8.4.4']) ➞ dns.google\n"
     ]
    }
   ],
   "source": [
    "import socket\n",
    "def get_domain(in_ip):\n",
    "    print(f'get_domain({in_ip}) ➞ {socket.gethostbyaddr(in_ip)} ➞ {socket.gethostbyaddr(in_ip)[0]}')\n",
    "    \n",
    "get_domain(\"8.8.8.8\")\n",
    "get_domain(\"8.8.4.4\")"
   ]
  },
  {
   "cell_type": "markdown",
   "id": "ff355554",
   "metadata": {},
   "source": [
    "# 5. Create a function that takes an integer n and returns the factorial of\n",
    "factorials. See below examples for a better understanding: <br>\n",
    "Examples <br>\n",
    "fact_of_fact(4) ➞ 288 <br>\n",
    "# 4! * 3! * 2! * 1! = 288 <br>\n",
    "fact_of_fact(5) ➞ 34560 <br>\n",
    "fact_of_fact(6) ➞ 24883200 <br>"
   ]
  },
  {
   "cell_type": "code",
   "execution_count": 6,
   "id": "90bfdbb3",
   "metadata": {},
   "outputs": [
    {
     "name": "stdout",
     "output_type": "stream",
     "text": [
      "fact_of_fact(4) ➞ 288\n",
      "fact_of_fact(5) ➞ 34560\n",
      "fact_of_fact(6) ➞ 24883200\n"
     ]
    }
   ],
   "source": [
    "def fact_of_fact(in_num):\n",
    "    # Internal Function to generate factorial of a Number\n",
    "    def get_factorial(n):\n",
    "        if n == 1:\n",
    "            return 1\n",
    "        else:\n",
    "            return n*get_factorial(n-1)      \n",
    "    out_num = 1\n",
    "    for ele in range(1,in_num+1):\n",
    "        out_num *= get_factorial(ele)\n",
    "    print(f'fact_of_fact({in_num}) ➞ {out_num}')\n",
    "\n",
    "fact_of_fact(4)\n",
    "fact_of_fact(5)\n",
    "fact_of_fact(6)"
   ]
  }
 ],
 "metadata": {
  "kernelspec": {
   "display_name": "Python 3 (ipykernel)",
   "language": "python",
   "name": "python3"
  },
  "language_info": {
   "codemirror_mode": {
    "name": "ipython",
    "version": 3
   },
   "file_extension": ".py",
   "mimetype": "text/x-python",
   "name": "python",
   "nbconvert_exporter": "python",
   "pygments_lexer": "ipython3",
   "version": "3.9.7"
  }
 },
 "nbformat": 4,
 "nbformat_minor": 5
}
