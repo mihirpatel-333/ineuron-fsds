{
 "cells": [
  {
   "cell_type": "markdown",
   "id": "b5d5d718",
   "metadata": {},
   "source": [
    "### 1. Write a Python Program to Find the Factorial of a Number?"
   ]
  },
  {
   "cell_type": "code",
   "execution_count": 4,
   "id": "ea3f228c",
   "metadata": {},
   "outputs": [
    {
     "name": "stdout",
     "output_type": "stream",
     "text": [
      "Enter your number = 7\n",
      "factorial of 7 is 5040\n"
     ]
    }
   ],
   "source": [
    "a = int(input(\"Enter your number = \"))\n",
    "factorial = 1\n",
    "if a < 0:\n",
    "    print(\"not negative\")\n",
    "elif a == 0:\n",
    "    print(\"factorial of 0 is 1\")\n",
    "else:\n",
    "    for i in range(1, a + 1):\n",
    "        factorial = factorial * i\n",
    "print(f\"factorial of {a} is {factorial}\")"
   ]
  },
  {
   "cell_type": "markdown",
   "id": "4e8f5845",
   "metadata": {},
   "source": [
    "#### 2. Write a Python Program to Display the multiplication Table?"
   ]
  },
  {
   "cell_type": "code",
   "execution_count": 8,
   "id": "aeca3f41",
   "metadata": {},
   "outputs": [
    {
     "name": "stdout",
     "output_type": "stream",
     "text": [
      "Enter multiplication table number = 10\n",
      "Enter number of table length = 15\n",
      "10 x 1 = 10\n",
      "10 x 2 = 20\n",
      "10 x 3 = 30\n",
      "10 x 4 = 40\n",
      "10 x 5 = 50\n",
      "10 x 6 = 60\n",
      "10 x 7 = 70\n",
      "10 x 8 = 80\n",
      "10 x 9 = 90\n",
      "10 x 10 = 100\n",
      "10 x 11 = 110\n",
      "10 x 12 = 120\n",
      "10 x 13 = 130\n",
      "10 x 14 = 140\n",
      "10 x 15 = 150\n"
     ]
    }
   ],
   "source": [
    "a = int(input(\"Enter multiplication table number = \"))\n",
    "b = int(input(\"Enter number of table length = \"))\n",
    "for i in range(1, b + 1):\n",
    "    print(f\"{a} x {i} = {a * i}\")"
   ]
  },
  {
   "cell_type": "markdown",
   "id": "884cf7c4",
   "metadata": {},
   "source": [
    "### 3. Write a Python Program to Print the Fibonacci sequence?"
   ]
  },
  {
   "cell_type": "code",
   "execution_count": 11,
   "id": "b89fdbbd",
   "metadata": {},
   "outputs": [
    {
     "name": "stdout",
     "output_type": "stream",
     "text": [
      "Enter number you want to print fibonaci = 10\n",
      "[1, 1, 2, 3, 5, 8, 13, 21, 34, 55]\n"
     ]
    }
   ],
   "source": [
    "def fibonaci(x):\n",
    "    a = 1\n",
    "    b = 1\n",
    "    l = []\n",
    "    for i in range(1, x+1):\n",
    "        l.append(a)\n",
    "        a, b = b, a + b\n",
    "    print(l)\n",
    "\n",
    "a = int(input(\"Enter number you want to print fibonaci = \"))                     \n",
    "fibonaci(a)"
   ]
  },
  {
   "cell_type": "markdown",
   "id": "3c52dd1f",
   "metadata": {},
   "source": [
    "### 4. Write a Python Program to Check Armstrong Number?"
   ]
  },
  {
   "cell_type": "code",
   "execution_count": 20,
   "id": "571f14c2",
   "metadata": {},
   "outputs": [
    {
     "name": "stdout",
     "output_type": "stream",
     "text": [
      "ENter your number = 333\n",
      "333 is not armstrong number\n"
     ]
    }
   ],
   "source": [
    "x = int(input(\"ENter your number = \"))\n",
    "power = len(str(x))\n",
    "\n",
    "y = x\n",
    "sum = 0\n",
    "\n",
    "while y > 0:\n",
    "    digit = y % 10\n",
    "    sum = sum + digit **power\n",
    "    y = y // 10\n",
    "if x == sum:\n",
    "    print(f\"{x} is armstrong number\")\n",
    "else:\n",
    "     print(f\"{x} is not armstrong number\")\n",
    "    "
   ]
  },
  {
   "cell_type": "markdown",
   "id": "ed7579f3",
   "metadata": {},
   "source": [
    "### 5. Write a Python Program to Find Armstrong Number in an Interval?"
   ]
  },
  {
   "cell_type": "code",
   "execution_count": 4,
   "id": "8979680a",
   "metadata": {},
   "outputs": [
    {
     "name": "stdout",
     "output_type": "stream",
     "text": [
      "ente start number = 100\n",
      "enter end number = 1000\n",
      "you armstrong between 100 and 1000 is = [153, 370, 371, 407]\n"
     ]
    }
   ],
   "source": [
    "a = int(input(\"ente start number = \"))\n",
    "b = int(input(\"enter end number = \"))\n",
    "armstrong = []\n",
    "\n",
    "for i in range(a, b+1):\n",
    "    power = len(str(i))\n",
    "    y = i\n",
    "    sum1 = 0 \n",
    "    while y > 0:\n",
    "        digit = y % 10\n",
    "        sum1 = sum1 + digit ** power\n",
    "        y = y // 10\n",
    "\n",
    "    if i == sum1:\n",
    "        armstrong.append(i)\n",
    "print(f\"you armstrong between {a} and {b} is = {armstrong}\")"
   ]
  },
  {
   "cell_type": "markdown",
   "id": "2b17ecef",
   "metadata": {},
   "source": [
    "### 6. Write a Python Program to Find the Sum of Natural Numbers?"
   ]
  },
  {
   "cell_type": "code",
   "execution_count": 8,
   "id": "e144fc57",
   "metadata": {},
   "outputs": [
    {
     "name": "stdout",
     "output_type": "stream",
     "text": [
      "enter the number : 33\n",
      "Sum of natural numbers upto 33 is 561\n"
     ]
    }
   ],
   "source": [
    "x = int(input(\"enter the number : \"))\n",
    "\n",
    "sum = 0\n",
    "for i in range(0,x+1):\n",
    "    sum+=i\n",
    "print(\"Sum of natural numbers upto {} is {}\".format(x,sum))"
   ]
  },
  {
   "cell_type": "code",
   "execution_count": null,
   "id": "a6a943c5",
   "metadata": {},
   "outputs": [],
   "source": []
  }
 ],
 "metadata": {
  "kernelspec": {
   "display_name": "Python 3 (ipykernel)",
   "language": "python",
   "name": "python3"
  },
  "language_info": {
   "codemirror_mode": {
    "name": "ipython",
    "version": 3
   },
   "file_extension": ".py",
   "mimetype": "text/x-python",
   "name": "python",
   "nbconvert_exporter": "python",
   "pygments_lexer": "ipython3",
   "version": "3.8.12"
  }
 },
 "nbformat": 4,
 "nbformat_minor": 5
}
