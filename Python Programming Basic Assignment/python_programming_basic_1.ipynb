{
 "cells": [
  {
   "cell_type": "markdown",
   "id": "98767a64",
   "metadata": {},
   "source": [
    "### 1. Write a Python program to print 'Hello Python'"
   ]
  },
  {
   "cell_type": "code",
   "execution_count": 1,
   "id": "68237df7",
   "metadata": {},
   "outputs": [
    {
     "name": "stdout",
     "output_type": "stream",
     "text": [
      "Hello Python\n"
     ]
    }
   ],
   "source": [
    "print('Hello Python')"
   ]
  },
  {
   "cell_type": "markdown",
   "id": "74bac4d6",
   "metadata": {},
   "source": [
    "### 2. Write a Python program to do arithmetical operations addition and division.?"
   ]
  },
  {
   "cell_type": "code",
   "execution_count": null,
   "id": "c9eecdb9",
   "metadata": {},
   "outputs": [],
   "source": []
  },
  {
   "cell_type": "code",
   "execution_count": 34,
   "id": "bd4bcb83",
   "metadata": {},
   "outputs": [
    {
     "name": "stdout",
     "output_type": "stream",
     "text": [
      "Select sign of Arithmetic Operation:         \n",
      "1.Addition(+)        \n",
      "2.Division(-)        \n",
      "2.Multiplication(*)        \n",
      "4.Division(/)        \n",
      "3.Stop(0)\n",
      "\n",
      "enter to select your operation /\n",
      "Enter your first number = 10\n",
      "Enter your second number = 5\n",
      "2.0\n"
     ]
    }
   ],
   "source": [
    "print('Select sign of Arithmetic Operation: \\\n",
    "        \\n1.Addition(+)\\\n",
    "        \\n2.Division(-)\\\n",
    "        \\n2.Multiplication(*)\\\n",
    "        \\n4.Division(/)\\\n",
    "        \\n3.Stop(0)\\n')\n",
    "\n",
    "\n",
    "while True:\n",
    "    operation_select = input(\"enter to select your operation \")\n",
    "    \n",
    "    if operation_select == \"0\":\n",
    "        print(\"Loop is stopped\")\n",
    "        break\n",
    "        \n",
    "    elif operation_select not in ['+', '-', '*', '/', '0']:\n",
    "        print(\"Enter valid sign\")\n",
    "        break\n",
    "        \n",
    "    else:\n",
    "        number1 = int(input(\"Enter your first number = \"))\n",
    "        number2 = int(input(\"Enter your second number = \"))\n",
    "        \n",
    "        if operation_select == \"+\":\n",
    "            print(number1 + number2)\n",
    "            break\n",
    "        elif operation_select == \"-\":\n",
    "            print(number1 - number2)\n",
    "            break\n",
    "        elif operation_select == \"*\":\n",
    "            print(number1 * number2)\n",
    "            break\n",
    "        else:\n",
    "            print(number1 / number2)\n",
    "            break\n",
    "        "
   ]
  },
  {
   "cell_type": "markdown",
   "id": "7f3c9c94",
   "metadata": {},
   "source": [
    "### 3. Write a Python program to find the area of a triangle?"
   ]
  },
  {
   "cell_type": "code",
   "execution_count": 49,
   "id": "4033c7b9",
   "metadata": {},
   "outputs": [
    {
     "name": "stdout",
     "output_type": "stream",
     "text": [
      "Enter length of first side5\n",
      "Enter length of second side5\n",
      "the area of triangle is 12.5\n"
     ]
    }
   ],
   "source": [
    "# to calculate the area of triangle we need base and height\n",
    "base = int(input(\"Enter length of first side\"))\n",
    "height = int(input(\"Enter length of second side\"))\n",
    "\n",
    "# to calculate area the formula is 0.5 * base * height\n",
    "area = 0.5 * base * height\n",
    "print(f\"the area of triangle is {area}\")"
   ]
  },
  {
   "cell_type": "markdown",
   "id": "547eb6bc",
   "metadata": {},
   "source": [
    "### 4. Write a Python program to swap two variables?"
   ]
  },
  {
   "cell_type": "code",
   "execution_count": 36,
   "id": "615fd5b6",
   "metadata": {},
   "outputs": [
    {
     "name": "stdout",
     "output_type": "stream",
     "text": [
      "before swapping x = 5, y = 10\n",
      "after swapping x = 10, y = 5\n"
     ]
    }
   ],
   "source": [
    "x = 5\n",
    "y = 10\n",
    "print(f\"before swapping x = {x}, y = {y}\")\n",
    "\n",
    "temp = x\n",
    "x = y\n",
    "y = temp\n",
    "print(f\"after swapping x = {x}, y = {y}\")"
   ]
  },
  {
   "cell_type": "markdown",
   "id": "617728bc",
   "metadata": {},
   "source": [
    "### 5. Write a Python program to generate a random number?"
   ]
  },
  {
   "cell_type": "code",
   "execution_count": 48,
   "id": "fa53c659",
   "metadata": {},
   "outputs": [
    {
     "name": "stdout",
     "output_type": "stream",
     "text": [
      "1 random number is = 65\n",
      "2 random number is = 16\n",
      "3 random number is = 11\n",
      "4 random number is = 44\n",
      "5 random number is = 50\n"
     ]
    }
   ],
   "source": [
    "from random import randint\n",
    "\n",
    "count = 1\n",
    "for i in range(5):\n",
    "    a = randint(1, 100)\n",
    "    print(f\"{count} random number is = {a}\")\n",
    "    count = count + 1"
   ]
  },
  {
   "cell_type": "code",
   "execution_count": null,
   "id": "41c1fcc4",
   "metadata": {},
   "outputs": [],
   "source": []
  }
 ],
 "metadata": {
  "kernelspec": {
   "display_name": "Python 3 (ipykernel)",
   "language": "python",
   "name": "python3"
  },
  "language_info": {
   "codemirror_mode": {
    "name": "ipython",
    "version": 3
   },
   "file_extension": ".py",
   "mimetype": "text/x-python",
   "name": "python",
   "nbconvert_exporter": "python",
   "pygments_lexer": "ipython3",
   "version": "3.8.12"
  }
 },
 "nbformat": 4,
 "nbformat_minor": 5
}
