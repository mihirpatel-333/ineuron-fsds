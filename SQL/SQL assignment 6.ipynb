{
 "cells": [
  {
   "cell_type": "markdown",
   "id": "0b018c93",
   "metadata": {},
   "source": [
    "# Q-1. Write an SQL query to print details of the Workers who have joined in Feb’2014."
   ]
  },
  {
   "cell_type": "markdown",
   "id": "cb5ae1a0",
   "metadata": {},
   "source": [
    "# Approach 1\n",
    "SELECT * FROM Worker WHERE YEAR(JOINING_DATE) = 2014 AND MONTH(JOINING_DATE) = 02;\n",
    "# Approach 2\n",
    "SELECT * FROM Worker WHERE JOINING_DATE LIKE \"%2014-02%\""
   ]
  },
  {
   "cell_type": "markdown",
   "id": "e14d71e2",
   "metadata": {},
   "source": [
    "# Q-2. Write an SQL query to fetch duplicate records having matching data in some fields of a table."
   ]
  },
  {
   "cell_type": "markdown",
   "id": "accdf73d",
   "metadata": {},
   "source": [
    "<b>Ans:</b> SELECT column_name, COUNT(column_name) FROM Worker GROUP BY FEILD HAVING COUNT(column_name) > 1;"
   ]
  },
  {
   "cell_type": "markdown",
   "id": "c97342d8",
   "metadata": {},
   "source": [
    "# Q-3. How to remove duplicate rows from Employees table."
   ]
  },
  {
   "cell_type": "markdown",
   "id": "6c4fb6c2",
   "metadata": {},
   "source": [
    "CREATE TABLE Employee ( <br>\n",
    "    ID INT PRIMARY KEY AUTO_INCREMENT NOT NULL, <br>\n",
    "    FIRST_NAME VARCHAR(50), <br>\n",
    "    LAST_NAME VARCHAR(50), <br>\n",
    "    COUNTRY VARCHAR(50) <br>\n",
    "); <br>\n",
    "INSERT INTO Employee VALUES  <br>\n",
    "(1,'ADITYA','VARMA','INDIA'), <br>\n",
    "(2,'ADITYA','VARMA','INDIA'), <br>\n",
    "(3,'ADITYA','VARMA','INDIA'), <br>\n",
    "(4,'STEVE','JOBS','USA'), <br>\n",
    "(5,'STEVE','JOBS','USA'), <br>\n",
    "(6,'STEVE','JOBS','USA'); <br>\n",
    "\n",
    "DELETE e1.* from employee e1 INNER JOIN employee e2 WHERE e1.id > e2.id AND e1.FIRST_NAME = e2.FIRST_NAME AND e1.LAST_NAME = e2.LAST_NAME AND e1.COUNTRY = e2.COUNTRY;"
   ]
  }
 ],
 "metadata": {
  "kernelspec": {
   "display_name": "Python 3 (ipykernel)",
   "language": "python",
   "name": "python3"
  },
  "language_info": {
   "codemirror_mode": {
    "name": "ipython",
    "version": 3
   },
   "file_extension": ".py",
   "mimetype": "text/x-python",
   "name": "python",
   "nbconvert_exporter": "python",
   "pygments_lexer": "ipython3",
   "version": "3.9.7"
  }
 },
 "nbformat": 4,
 "nbformat_minor": 5
}
