{
 "cells": [
  {
   "cell_type": "markdown",
   "id": "94e1c94e",
   "metadata": {},
   "source": [
    "# Q-13. Write an SQL query to show only odd rows from a table.\n"
   ]
  },
  {
   "cell_type": "markdown",
   "id": "4cebceb1",
   "metadata": {},
   "source": [
    "<b>Ans: </b>SELECT * FROM Worker Where MOD(worker_id,2) = 1"
   ]
  },
  {
   "cell_type": "markdown",
   "id": "b4278064",
   "metadata": {},
   "source": [
    "# Q-14. Write an SQL query to clone a new table from another table."
   ]
  },
  {
   "cell_type": "markdown",
   "id": "f1a0d180",
   "metadata": {},
   "source": [
    "# Code to Create a New table\n",
    "CREATE TABLE CloneWorker ( <br>\n",
    "    WORKER_ID INT NOT NULL AUTO INCREMENT PRIMARY KEY, <br>\n",
    "    FIRST_NAME VARCHAR(50), <br>\n",
    "    LAST_NAME VARCHAR(50), <br>\n",
    "    SALARY INT, <br>\n",
    "    DEPARTMENT VARCHAR(50), <br>\n",
    "    JOINING_DATE DATETIME <br>\n",
    ");\n",
    "# Code to Clone content of a table to another table\n",
    "INSERT INTO CloneWorker SELECT * FROM Worker;"
   ]
  }
 ],
 "metadata": {
  "kernelspec": {
   "display_name": "Python 3 (ipykernel)",
   "language": "python",
   "name": "python3"
  },
  "language_info": {
   "codemirror_mode": {
    "name": "ipython",
    "version": 3
   },
   "file_extension": ".py",
   "mimetype": "text/x-python",
   "name": "python",
   "nbconvert_exporter": "python",
   "pygments_lexer": "ipython3",
   "version": "3.9.7"
  }
 },
 "nbformat": 4,
 "nbformat_minor": 5
}
