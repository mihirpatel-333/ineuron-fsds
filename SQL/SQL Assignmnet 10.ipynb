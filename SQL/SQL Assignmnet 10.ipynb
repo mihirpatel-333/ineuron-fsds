{
 "cells": [
  {
   "cell_type": "markdown",
   "id": "8cca2f6a",
   "metadata": {},
   "source": [
    "# Q-19. Write an SQL query to determine the 5th highest salary without using TOP or limit method."
   ]
  },
  {
   "cell_type": "markdown",
   "id": "02aaed11",
   "metadata": {},
   "source": [
    "SELECT * FROM (SELECT ROW_NUMBER() OVER (ORDER BY salary DESC) AS R_NUM, first_name, salary FROM employee) as HEllO WHERE R_NUM=5;\n"
   ]
  },
  {
   "cell_type": "markdown",
   "id": "1e2e38c5",
   "metadata": {},
   "source": [
    "# Q-20. Write an SQL query to fetch the list of employees with the same salary.\n"
   ]
  },
  {
   "cell_type": "markdown",
   "id": "7d795b6e",
   "metadata": {},
   "source": [
    "CREATE TABLE employee ( <br>\n",
    "    emp_id INT PRIMARY KEY AUTO_INCREMENT NOT NULL, <br>\n",
    "    first_name VARCHAR(50), <br>\n",
    "    last_name VARCHAR(50), <br>\n",
    "    salary INT <br>\n",
    "); <br>\n",
    "\n",
    "INSERT INTO employee VALUES <br>\n",
    "(1,'Luke','Skywalker',100), <br>\n",
    "(2,'Anakin','Skywalker',200), <br>\n",
    "(3,'Liea','Skywalker',50), <br>\n",
    "(4,'Rey','Skywalker',150), <br>\n",
    "(5,'Han','Solo',100), <br>\n",
    "(6,'Darth','Vader',150); <br>\n",
    "\n",
    "SELECT * FROM employee ORDER BY salary ASC;"
   ]
  }
 ],
 "metadata": {
  "kernelspec": {
   "display_name": "Python 3 (ipykernel)",
   "language": "python",
   "name": "python3"
  },
  "language_info": {
   "codemirror_mode": {
    "name": "ipython",
    "version": 3
   },
   "file_extension": ".py",
   "mimetype": "text/x-python",
   "name": "python",
   "nbconvert_exporter": "python",
   "pygments_lexer": "ipython3",
   "version": "3.9.7"
  }
 },
 "nbformat": 4,
 "nbformat_minor": 5
}
