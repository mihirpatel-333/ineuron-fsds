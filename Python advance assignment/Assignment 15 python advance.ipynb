{
 "cells": [
  {
   "cell_type": "markdown",
   "id": "d4909ea1",
   "metadata": {},
   "source": [
    "# 1. What are the new features added in Python 3.8 version?"
   ]
  },
  {
   "cell_type": "code",
   "execution_count": null,
   "id": "ffe23f6a",
   "metadata": {},
   "outputs": [],
   "source": []
  },
  {
   "cell_type": "markdown",
   "id": "5489cdfa",
   "metadata": {},
   "source": [
    "# 2. What is monkey patching in Python?"
   ]
  },
  {
   "cell_type": "code",
   "execution_count": null,
   "id": "9ef2cf7f",
   "metadata": {},
   "outputs": [],
   "source": []
  },
  {
   "cell_type": "markdown",
   "id": "019bdc8c",
   "metadata": {},
   "source": [
    "# 3. What is the difference between a shallow copy and deep copy?"
   ]
  },
  {
   "cell_type": "code",
   "execution_count": null,
   "id": "d460d6f3",
   "metadata": {},
   "outputs": [],
   "source": []
  },
  {
   "cell_type": "markdown",
   "id": "cd2450ab",
   "metadata": {},
   "source": [
    "# 4. What is the maximum possible length of an identifier?"
   ]
  },
  {
   "cell_type": "code",
   "execution_count": null,
   "id": "9c7bfaf2",
   "metadata": {},
   "outputs": [],
   "source": []
  },
  {
   "cell_type": "markdown",
   "id": "d46ac990",
   "metadata": {},
   "source": [
    "# 5. What is generator comprehension?"
   ]
  },
  {
   "cell_type": "code",
   "execution_count": null,
   "id": "2236bc28",
   "metadata": {},
   "outputs": [],
   "source": []
  }
 ],
 "metadata": {
  "kernelspec": {
   "display_name": "Python 3 (ipykernel)",
   "language": "python",
   "name": "python3"
  },
  "language_info": {
   "codemirror_mode": {
    "name": "ipython",
    "version": 3
   },
   "file_extension": ".py",
   "mimetype": "text/x-python",
   "name": "python",
   "nbconvert_exporter": "python",
   "pygments_lexer": "ipython3",
   "version": "3.9.7"
  }
 },
 "nbformat": 4,
 "nbformat_minor": 5
}
